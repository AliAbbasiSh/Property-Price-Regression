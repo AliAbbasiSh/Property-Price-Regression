{
 "cells": [
  {
   "cell_type": "code",
   "execution_count": 74,
   "metadata": {},
   "outputs": [],
   "source": [
    "import numpy as np\n",
    "import pandas as pd\n",
    "import seaborn as sns\n",
    "import matplotlib.pyplot as plt"
   ]
  },
  {
   "cell_type": "code",
   "execution_count": 75,
   "metadata": {},
   "outputs": [],
   "source": [
    "df = pd.read_excel(\"toronto_property_data.xlsx\")"
   ]
  },
  {
   "cell_type": "code",
   "execution_count": 76,
   "metadata": {},
   "outputs": [
    {
     "data": {
      "text/html": [
       "<div>\n",
       "<style scoped>\n",
       "    .dataframe tbody tr th:only-of-type {\n",
       "        vertical-align: middle;\n",
       "    }\n",
       "\n",
       "    .dataframe tbody tr th {\n",
       "        vertical-align: top;\n",
       "    }\n",
       "\n",
       "    .dataframe thead th {\n",
       "        text-align: right;\n",
       "    }\n",
       "</style>\n",
       "<table border=\"1\" class=\"dataframe\">\n",
       "  <thead>\n",
       "    <tr style=\"text-align: right;\">\n",
       "      <th></th>\n",
       "      <th>price</th>\n",
       "      <th>region</th>\n",
       "      <th>address</th>\n",
       "      <th>bedrooms</th>\n",
       "      <th>bathrooms</th>\n",
       "      <th>pricem</th>\n",
       "    </tr>\n",
       "  </thead>\n",
       "  <tbody>\n",
       "    <tr>\n",
       "      <th>0</th>\n",
       "      <td>799000</td>\n",
       "      <td>Ajax, ON</td>\n",
       "      <td>2 ROLLO DR, Ajax, Ontario</td>\n",
       "      <td>3</td>\n",
       "      <td>3</td>\n",
       "      <td>0.799000</td>\n",
       "    </tr>\n",
       "    <tr>\n",
       "      <th>1</th>\n",
       "      <td>989000</td>\n",
       "      <td>Ajax, ON</td>\n",
       "      <td>717 OLD HARWOOD AVE, Ajax, Ontario</td>\n",
       "      <td>2</td>\n",
       "      <td>1</td>\n",
       "      <td>0.989000</td>\n",
       "    </tr>\n",
       "    <tr>\n",
       "      <th>2</th>\n",
       "      <td>999900</td>\n",
       "      <td>Ajax, ON</td>\n",
       "      <td>52 ADDLEY CRES, Ajax, Ontario</td>\n",
       "      <td>3</td>\n",
       "      <td>4</td>\n",
       "      <td>0.999900</td>\n",
       "    </tr>\n",
       "    <tr>\n",
       "      <th>3</th>\n",
       "      <td>799900</td>\n",
       "      <td>Ajax, ON</td>\n",
       "      <td>249 MONARCH AVE, Ajax, Ontario</td>\n",
       "      <td>3</td>\n",
       "      <td>3</td>\n",
       "      <td>0.799900</td>\n",
       "    </tr>\n",
       "    <tr>\n",
       "      <th>4</th>\n",
       "      <td>899999</td>\n",
       "      <td>Ajax, ON</td>\n",
       "      <td>18 MONK CRES, Ajax, Ontario</td>\n",
       "      <td>3</td>\n",
       "      <td>3</td>\n",
       "      <td>0.899999</td>\n",
       "    </tr>\n",
       "  </tbody>\n",
       "</table>\n",
       "</div>"
      ],
      "text/plain": [
       "    price    region                             address  bedrooms  bathrooms  \\\n",
       "0  799000  Ajax, ON           2 ROLLO DR, Ajax, Ontario         3          3   \n",
       "1  989000  Ajax, ON  717 OLD HARWOOD AVE, Ajax, Ontario         2          1   \n",
       "2  999900  Ajax, ON       52 ADDLEY CRES, Ajax, Ontario         3          4   \n",
       "3  799900  Ajax, ON      249 MONARCH AVE, Ajax, Ontario         3          3   \n",
       "4  899999  Ajax, ON         18 MONK CRES, Ajax, Ontario         3          3   \n",
       "\n",
       "     pricem  \n",
       "0  0.799000  \n",
       "1  0.989000  \n",
       "2  0.999900  \n",
       "3  0.799900  \n",
       "4  0.899999  "
      ]
     },
     "execution_count": 76,
     "metadata": {},
     "output_type": "execute_result"
    }
   ],
   "source": [
    "df.head()"
   ]
  },
  {
   "cell_type": "code",
   "execution_count": 77,
   "metadata": {},
   "outputs": [
    {
     "data": {
      "text/html": [
       "<div>\n",
       "<style scoped>\n",
       "    .dataframe tbody tr th:only-of-type {\n",
       "        vertical-align: middle;\n",
       "    }\n",
       "\n",
       "    .dataframe tbody tr th {\n",
       "        vertical-align: top;\n",
       "    }\n",
       "\n",
       "    .dataframe thead th {\n",
       "        text-align: right;\n",
       "    }\n",
       "</style>\n",
       "<table border=\"1\" class=\"dataframe\">\n",
       "  <thead>\n",
       "    <tr style=\"text-align: right;\">\n",
       "      <th></th>\n",
       "      <th>price</th>\n",
       "      <th>region</th>\n",
       "      <th>bedrooms</th>\n",
       "      <th>bathrooms</th>\n",
       "      <th>pricem</th>\n",
       "    </tr>\n",
       "  </thead>\n",
       "  <tbody>\n",
       "    <tr>\n",
       "      <th>0</th>\n",
       "      <td>799000</td>\n",
       "      <td>Ajax, ON</td>\n",
       "      <td>3</td>\n",
       "      <td>3</td>\n",
       "      <td>0.799000</td>\n",
       "    </tr>\n",
       "    <tr>\n",
       "      <th>1</th>\n",
       "      <td>989000</td>\n",
       "      <td>Ajax, ON</td>\n",
       "      <td>2</td>\n",
       "      <td>1</td>\n",
       "      <td>0.989000</td>\n",
       "    </tr>\n",
       "    <tr>\n",
       "      <th>2</th>\n",
       "      <td>999900</td>\n",
       "      <td>Ajax, ON</td>\n",
       "      <td>3</td>\n",
       "      <td>4</td>\n",
       "      <td>0.999900</td>\n",
       "    </tr>\n",
       "    <tr>\n",
       "      <th>3</th>\n",
       "      <td>799900</td>\n",
       "      <td>Ajax, ON</td>\n",
       "      <td>3</td>\n",
       "      <td>3</td>\n",
       "      <td>0.799900</td>\n",
       "    </tr>\n",
       "    <tr>\n",
       "      <th>4</th>\n",
       "      <td>899999</td>\n",
       "      <td>Ajax, ON</td>\n",
       "      <td>3</td>\n",
       "      <td>3</td>\n",
       "      <td>0.899999</td>\n",
       "    </tr>\n",
       "  </tbody>\n",
       "</table>\n",
       "</div>"
      ],
      "text/plain": [
       "    price    region  bedrooms  bathrooms    pricem\n",
       "0  799000  Ajax, ON         3          3  0.799000\n",
       "1  989000  Ajax, ON         2          1  0.989000\n",
       "2  999900  Ajax, ON         3          4  0.999900\n",
       "3  799900  Ajax, ON         3          3  0.799900\n",
       "4  899999  Ajax, ON         3          3  0.899999"
      ]
     },
     "execution_count": 77,
     "metadata": {},
     "output_type": "execute_result"
    }
   ],
   "source": [
    "df = df.drop(\"address\",axis=1)\n",
    "df.head()"
   ]
  },
  {
   "cell_type": "code",
   "execution_count": 78,
   "metadata": {},
   "outputs": [
    {
     "data": {
      "text/html": [
       "<div>\n",
       "<style scoped>\n",
       "    .dataframe tbody tr th:only-of-type {\n",
       "        vertical-align: middle;\n",
       "    }\n",
       "\n",
       "    .dataframe tbody tr th {\n",
       "        vertical-align: top;\n",
       "    }\n",
       "\n",
       "    .dataframe thead th {\n",
       "        text-align: right;\n",
       "    }\n",
       "</style>\n",
       "<table border=\"1\" class=\"dataframe\">\n",
       "  <thead>\n",
       "    <tr style=\"text-align: right;\">\n",
       "      <th></th>\n",
       "      <th>price</th>\n",
       "      <th>bedrooms</th>\n",
       "      <th>bathrooms</th>\n",
       "      <th>pricem</th>\n",
       "    </tr>\n",
       "  </thead>\n",
       "  <tbody>\n",
       "    <tr>\n",
       "      <th>count</th>\n",
       "      <td>7.324000e+03</td>\n",
       "      <td>7324.000000</td>\n",
       "      <td>7324.000000</td>\n",
       "      <td>7324.000000</td>\n",
       "    </tr>\n",
       "    <tr>\n",
       "      <th>mean</th>\n",
       "      <td>1.444227e+06</td>\n",
       "      <td>3.062125</td>\n",
       "      <td>2.976106</td>\n",
       "      <td>1.444227</td>\n",
       "    </tr>\n",
       "    <tr>\n",
       "      <th>std</th>\n",
       "      <td>1.347525e+06</td>\n",
       "      <td>1.087886</td>\n",
       "      <td>1.401255</td>\n",
       "      <td>1.347525</td>\n",
       "    </tr>\n",
       "    <tr>\n",
       "      <th>min</th>\n",
       "      <td>3.590000e+05</td>\n",
       "      <td>0.000000</td>\n",
       "      <td>0.000000</td>\n",
       "      <td>0.359000</td>\n",
       "    </tr>\n",
       "    <tr>\n",
       "      <th>25%</th>\n",
       "      <td>7.997942e+05</td>\n",
       "      <td>2.000000</td>\n",
       "      <td>2.000000</td>\n",
       "      <td>0.799794</td>\n",
       "    </tr>\n",
       "    <tr>\n",
       "      <th>50%</th>\n",
       "      <td>1.099000e+06</td>\n",
       "      <td>3.000000</td>\n",
       "      <td>3.000000</td>\n",
       "      <td>1.099000</td>\n",
       "    </tr>\n",
       "    <tr>\n",
       "      <th>75%</th>\n",
       "      <td>1.599999e+06</td>\n",
       "      <td>4.000000</td>\n",
       "      <td>4.000000</td>\n",
       "      <td>1.599999</td>\n",
       "    </tr>\n",
       "    <tr>\n",
       "      <th>max</th>\n",
       "      <td>2.797500e+07</td>\n",
       "      <td>9.000000</td>\n",
       "      <td>15.000000</td>\n",
       "      <td>27.975000</td>\n",
       "    </tr>\n",
       "  </tbody>\n",
       "</table>\n",
       "</div>"
      ],
      "text/plain": [
       "              price     bedrooms    bathrooms       pricem\n",
       "count  7.324000e+03  7324.000000  7324.000000  7324.000000\n",
       "mean   1.444227e+06     3.062125     2.976106     1.444227\n",
       "std    1.347525e+06     1.087886     1.401255     1.347525\n",
       "min    3.590000e+05     0.000000     0.000000     0.359000\n",
       "25%    7.997942e+05     2.000000     2.000000     0.799794\n",
       "50%    1.099000e+06     3.000000     3.000000     1.099000\n",
       "75%    1.599999e+06     4.000000     4.000000     1.599999\n",
       "max    2.797500e+07     9.000000    15.000000    27.975000"
      ]
     },
     "execution_count": 78,
     "metadata": {},
     "output_type": "execute_result"
    }
   ],
   "source": [
    "df.describe()"
   ]
  },
  {
   "cell_type": "code",
   "execution_count": 79,
   "metadata": {},
   "outputs": [
    {
     "data": {
      "text/html": [
       "<div>\n",
       "<style scoped>\n",
       "    .dataframe tbody tr th:only-of-type {\n",
       "        vertical-align: middle;\n",
       "    }\n",
       "\n",
       "    .dataframe tbody tr th {\n",
       "        vertical-align: top;\n",
       "    }\n",
       "\n",
       "    .dataframe thead th {\n",
       "        text-align: right;\n",
       "    }\n",
       "</style>\n",
       "<table border=\"1\" class=\"dataframe\">\n",
       "  <thead>\n",
       "    <tr style=\"text-align: right;\">\n",
       "      <th></th>\n",
       "      <th>price</th>\n",
       "      <th>region</th>\n",
       "      <th>bedrooms</th>\n",
       "      <th>bathrooms</th>\n",
       "    </tr>\n",
       "  </thead>\n",
       "  <tbody>\n",
       "    <tr>\n",
       "      <th>0</th>\n",
       "      <td>799000</td>\n",
       "      <td>Ajax, ON</td>\n",
       "      <td>3</td>\n",
       "      <td>3</td>\n",
       "    </tr>\n",
       "    <tr>\n",
       "      <th>1</th>\n",
       "      <td>989000</td>\n",
       "      <td>Ajax, ON</td>\n",
       "      <td>2</td>\n",
       "      <td>1</td>\n",
       "    </tr>\n",
       "    <tr>\n",
       "      <th>2</th>\n",
       "      <td>999900</td>\n",
       "      <td>Ajax, ON</td>\n",
       "      <td>3</td>\n",
       "      <td>4</td>\n",
       "    </tr>\n",
       "    <tr>\n",
       "      <th>3</th>\n",
       "      <td>799900</td>\n",
       "      <td>Ajax, ON</td>\n",
       "      <td>3</td>\n",
       "      <td>3</td>\n",
       "    </tr>\n",
       "    <tr>\n",
       "      <th>4</th>\n",
       "      <td>899999</td>\n",
       "      <td>Ajax, ON</td>\n",
       "      <td>3</td>\n",
       "      <td>3</td>\n",
       "    </tr>\n",
       "  </tbody>\n",
       "</table>\n",
       "</div>"
      ],
      "text/plain": [
       "    price    region  bedrooms  bathrooms\n",
       "0  799000  Ajax, ON         3          3\n",
       "1  989000  Ajax, ON         2          1\n",
       "2  999900  Ajax, ON         3          4\n",
       "3  799900  Ajax, ON         3          3\n",
       "4  899999  Ajax, ON         3          3"
      ]
     },
     "execution_count": 79,
     "metadata": {},
     "output_type": "execute_result"
    }
   ],
   "source": [
    "df = df.drop(\"pricem\",axis=1)\n",
    "df.head()"
   ]
  },
  {
   "cell_type": "code",
   "execution_count": 80,
   "metadata": {},
   "outputs": [
    {
     "data": {
      "text/plain": [
       "array(['Ajax, ON', 'Clarington, ON', 'Brock, ON', 'Oshawa, ON',\n",
       "       'Pickering, ON', 'Scugog, ON', 'Uxbridge, ON', 'Whitby, ON',\n",
       "       'Burlington, ON', 'Halton Hills, ON', 'Milton, ON', 'Oakville, ON',\n",
       "       'Brampton, ON', 'Caledon, ON', 'Mississauga, ON', 'Aurora, ON',\n",
       "       'East Gwillimbury, ON', 'Georgina, ON', 'King, ON', 'Markham, ON',\n",
       "       'Newmarket, ON', 'Richmond Hill, ON', 'Vaughan, ON',\n",
       "       'Whitchurch-Stouffville, ON', 'Old Toronto, Toronto, ON',\n",
       "       'Hamilton, ON', 'Guelph, ON', 'Kitchener, ON', 'Cambridge, ON',\n",
       "       'Brantford, ON', 'Scarborough, Toronto, ON'], dtype=object)"
      ]
     },
     "execution_count": 80,
     "metadata": {},
     "output_type": "execute_result"
    }
   ],
   "source": [
    "df[\"region\"].unique()"
   ]
  },
  {
   "cell_type": "code",
   "execution_count": 81,
   "metadata": {},
   "outputs": [
    {
     "data": {
      "text/plain": [
       "31"
      ]
     },
     "execution_count": 81,
     "metadata": {},
     "output_type": "execute_result"
    }
   ],
   "source": [
    "df[\"region\"].nunique()"
   ]
  },
  {
   "cell_type": "code",
   "execution_count": 82,
   "metadata": {},
   "outputs": [
    {
     "data": {
      "text/plain": [
       "<seaborn.axisgrid.FacetGrid at 0x2d2a49f2370>"
      ]
     },
     "execution_count": 82,
     "metadata": {},
     "output_type": "execute_result"
    },
    {
     "data": {
      "image/png": "[encoded data removed]",
      "text/plain": [
       "<Figure size 720x360 with 1 Axes>"
      ]
     },
     "metadata": {
      "needs_background": "light"
     },
     "output_type": "display_data"
    }
   ],
   "source": [
    "sns.displot(data=df,x=df[\"price\"],height=5,aspect=2,bins=150)"
   ]
  },
  {
   "cell_type": "code",
   "execution_count": 83,
   "metadata": {},
   "outputs": [
    {
     "data": {
      "text/plain": [
       "region\n",
       "Ajax, ON                      1.069384e+06\n",
       "Aurora, ON                    2.204519e+06\n",
       "Brampton, ON                  1.296141e+06\n",
       "Brantford, ON                 8.698757e+05\n",
       "Brock, ON                     1.190481e+06\n",
       "Burlington, ON                1.320899e+06\n",
       "Caledon, ON                   2.676405e+06\n",
       "Cambridge, ON                 8.491352e+05\n",
       "Clarington, ON                1.133770e+06\n",
       "East Gwillimbury, ON          2.056118e+06\n",
       "Georgina, ON                  1.250607e+06\n",
       "Guelph, ON                    9.848519e+05\n",
       "Halton Hills, ON              1.897911e+06\n",
       "Hamilton, ON                  9.571767e+05\n",
       "King, ON                      3.989348e+06\n",
       "Kitchener, ON                 8.380746e+05\n",
       "Markham, ON                   1.673423e+06\n",
       "Milton, ON                    1.690602e+06\n",
       "Mississauga, ON               1.188830e+06\n",
       "Newmarket, ON                 1.423045e+06\n",
       "Oakville, ON                  2.490236e+06\n",
       "Old Toronto, Toronto, ON      1.154608e+06\n",
       "Oshawa, ON                    9.602639e+05\n",
       "Pickering, ON                 1.218449e+06\n",
       "Richmond Hill, ON             1.954222e+06\n",
       "Scarborough, Toronto, ON      1.055232e+06\n",
       "Scugog, ON                    1.469718e+06\n",
       "Uxbridge, ON                  1.461678e+06\n",
       "Vaughan, ON                   1.815538e+06\n",
       "Whitby, ON                    1.222084e+06\n",
       "Whitchurch-Stouffville, ON    2.248775e+06\n",
       "Name: price, dtype: float64"
      ]
     },
     "execution_count": 83,
     "metadata": {},
     "output_type": "execute_result"
    }
   ],
   "source": [
    "df.groupby(\"region\").mean()[\"price\"]"
   ]
  },
  {
   "cell_type": "code",
   "execution_count": 84,
   "metadata": {},
   "outputs": [
    {
     "data": {
      "text/plain": [
       "<AxesSubplot:xlabel='region'>"
      ]
     },
     "execution_count": 84,
     "metadata": {},
     "output_type": "execute_result"
    },
    {
     "data": {
      "image/png": "[encoded data removed]",
      "text/plain": [
       "<Figure size 864x576 with 1 Axes>"
      ]
     },
     "metadata": {
      "needs_background": "light"
     },
     "output_type": "display_data"
    }
   ],
   "source": [
    "plt.figure(figsize=(12,8))\n",
    "df.groupby(\"region\").mean()[\"price\"].sort_values().plot(kind=\"bar\")"
   ]
  },
  {
   "cell_type": "code",
   "execution_count": 85,
   "metadata": {},
   "outputs": [
    {
     "data": {
      "text/plain": [
       "<AxesSubplot:xlabel='bedrooms'>"
      ]
     },
     "execution_count": 85,
     "metadata": {},
     "output_type": "execute_result"
    },
    {
     "data": {
      "image/png": "[encoded data removed]",
      "text/plain": [
       "<Figure size 864x576 with 1 Axes>"
      ]
     },
     "metadata": {
      "needs_background": "light"
     },
     "output_type": "display_data"
    }
   ],
   "source": [
    "plt.figure(figsize=(12,8))\n",
    "df.groupby(\"bedrooms\").mean()[\"price\"].plot(kind=\"bar\")"
   ]
  },
  {
   "cell_type": "code",
   "execution_count": 86,
   "metadata": {},
   "outputs": [
    {
     "data": {
      "text/plain": [
       "<AxesSubplot:>"
      ]
     },
     "execution_count": 86,
     "metadata": {},
     "output_type": "execute_result"
    },
    {
     "data": {
      "image/png": "[encoded data removed]",
      "text/plain": [
       "<Figure size 864x576 with 1 Axes>"
      ]
     },
     "metadata": {
      "needs_background": "light"
     },
     "output_type": "display_data"
    }
   ],
   "source": [
    "plt.figure(figsize=(12,8))\n",
    "df[\"region\"].value_counts().plot(kind=\"bar\")"
   ]
  },
  {
   "cell_type": "code",
   "execution_count": 87,
   "metadata": {},
   "outputs": [
    {
     "data": {
      "text/html": [
       "<div>\n",
       "<style scoped>\n",
       "    .dataframe tbody tr th:only-of-type {\n",
       "        vertical-align: middle;\n",
       "    }\n",
       "\n",
       "    .dataframe tbody tr th {\n",
       "        vertical-align: top;\n",
       "    }\n",
       "\n",
       "    .dataframe thead th {\n",
       "        text-align: right;\n",
       "    }\n",
       "</style>\n",
       "<table border=\"1\" class=\"dataframe\">\n",
       "  <thead>\n",
       "    <tr style=\"text-align: right;\">\n",
       "      <th></th>\n",
       "      <th>price</th>\n",
       "      <th>bedrooms</th>\n",
       "      <th>bathrooms</th>\n",
       "    </tr>\n",
       "  </thead>\n",
       "  <tbody>\n",
       "    <tr>\n",
       "      <th>price</th>\n",
       "      <td>1.000000</td>\n",
       "      <td>0.420552</td>\n",
       "      <td>0.544713</td>\n",
       "    </tr>\n",
       "    <tr>\n",
       "      <th>bedrooms</th>\n",
       "      <td>0.420552</td>\n",
       "      <td>1.000000</td>\n",
       "      <td>0.698085</td>\n",
       "    </tr>\n",
       "    <tr>\n",
       "      <th>bathrooms</th>\n",
       "      <td>0.544713</td>\n",
       "      <td>0.698085</td>\n",
       "      <td>1.000000</td>\n",
       "    </tr>\n",
       "  </tbody>\n",
       "</table>\n",
       "</div>"
      ],
      "text/plain": [
       "              price  bedrooms  bathrooms\n",
       "price      1.000000  0.420552   0.544713\n",
       "bedrooms   0.420552  1.000000   0.698085\n",
       "bathrooms  0.544713  0.698085   1.000000"
      ]
     },
     "execution_count": 87,
     "metadata": {},
     "output_type": "execute_result"
    }
   ],
   "source": [
    "df.corr()"
   ]
  },
  {
   "cell_type": "code",
   "execution_count": 89,
   "metadata": {},
   "outputs": [
    {
     "data": {
      "text/plain": [
       "<AxesSubplot:>"
      ]
     },
     "execution_count": 89,
     "metadata": {},
     "output_type": "execute_result"
    },
    {
     "data": {
      "image/png": "[encoded data removed]",
      "text/plain": [
       "<Figure size 432x288 with 2 Axes>"
      ]
     },
     "metadata": {
      "needs_background": "light"
     },
     "output_type": "display_data"
    }
   ],
   "source": [
    "sns.heatmap(df.corr(),annot = True, cmap= \"Greens\")"
   ]
  },
  {
   "cell_type": "code",
   "execution_count": 90,
   "metadata": {},
   "outputs": [
    {
     "data": {
      "text/html": [
       "<div>\n",
       "<style scoped>\n",
       "    .dataframe tbody tr th:only-of-type {\n",
       "        vertical-align: middle;\n",
       "    }\n",
       "\n",
       "    .dataframe tbody tr th {\n",
       "        vertical-align: top;\n",
       "    }\n",
       "\n",
       "    .dataframe thead th {\n",
       "        text-align: right;\n",
       "    }\n",
       "</style>\n",
       "<table border=\"1\" class=\"dataframe\">\n",
       "  <thead>\n",
       "    <tr style=\"text-align: right;\">\n",
       "      <th></th>\n",
       "      <th>price</th>\n",
       "      <th>bedrooms</th>\n",
       "      <th>bathrooms</th>\n",
       "      <th>Ajax, ON</th>\n",
       "      <th>Aurora, ON</th>\n",
       "      <th>Brampton, ON</th>\n",
       "      <th>Brantford, ON</th>\n",
       "      <th>Brock, ON</th>\n",
       "      <th>Burlington, ON</th>\n",
       "      <th>Caledon, ON</th>\n",
       "      <th>...</th>\n",
       "      <th>Old Toronto, Toronto, ON</th>\n",
       "      <th>Oshawa, ON</th>\n",
       "      <th>Pickering, ON</th>\n",
       "      <th>Richmond Hill, ON</th>\n",
       "      <th>Scarborough, Toronto, ON</th>\n",
       "      <th>Scugog, ON</th>\n",
       "      <th>Uxbridge, ON</th>\n",
       "      <th>Vaughan, ON</th>\n",
       "      <th>Whitby, ON</th>\n",
       "      <th>Whitchurch-Stouffville, ON</th>\n",
       "    </tr>\n",
       "  </thead>\n",
       "  <tbody>\n",
       "    <tr>\n",
       "      <th>0</th>\n",
       "      <td>799000</td>\n",
       "      <td>3</td>\n",
       "      <td>3</td>\n",
       "      <td>1</td>\n",
       "      <td>0</td>\n",
       "      <td>0</td>\n",
       "      <td>0</td>\n",
       "      <td>0</td>\n",
       "      <td>0</td>\n",
       "      <td>0</td>\n",
       "      <td>...</td>\n",
       "      <td>0</td>\n",
       "      <td>0</td>\n",
       "      <td>0</td>\n",
       "      <td>0</td>\n",
       "      <td>0</td>\n",
       "      <td>0</td>\n",
       "      <td>0</td>\n",
       "      <td>0</td>\n",
       "      <td>0</td>\n",
       "      <td>0</td>\n",
       "    </tr>\n",
       "    <tr>\n",
       "      <th>1</th>\n",
       "      <td>989000</td>\n",
       "      <td>2</td>\n",
       "      <td>1</td>\n",
       "      <td>1</td>\n",
       "      <td>0</td>\n",
       "      <td>0</td>\n",
       "      <td>0</td>\n",
       "      <td>0</td>\n",
       "      <td>0</td>\n",
       "      <td>0</td>\n",
       "      <td>...</td>\n",
       "      <td>0</td>\n",
       "      <td>0</td>\n",
       "      <td>0</td>\n",
       "      <td>0</td>\n",
       "      <td>0</td>\n",
       "      <td>0</td>\n",
       "      <td>0</td>\n",
       "      <td>0</td>\n",
       "      <td>0</td>\n",
       "      <td>0</td>\n",
       "    </tr>\n",
       "    <tr>\n",
       "      <th>2</th>\n",
       "      <td>999900</td>\n",
       "      <td>3</td>\n",
       "      <td>4</td>\n",
       "      <td>1</td>\n",
       "      <td>0</td>\n",
       "      <td>0</td>\n",
       "      <td>0</td>\n",
       "      <td>0</td>\n",
       "      <td>0</td>\n",
       "      <td>0</td>\n",
       "      <td>...</td>\n",
       "      <td>0</td>\n",
       "      <td>0</td>\n",
       "      <td>0</td>\n",
       "      <td>0</td>\n",
       "      <td>0</td>\n",
       "      <td>0</td>\n",
       "      <td>0</td>\n",
       "      <td>0</td>\n",
       "      <td>0</td>\n",
       "      <td>0</td>\n",
       "    </tr>\n",
       "    <tr>\n",
       "      <th>3</th>\n",
       "      <td>799900</td>\n",
       "      <td>3</td>\n",
       "      <td>3</td>\n",
       "      <td>1</td>\n",
       "      <td>0</td>\n",
       "      <td>0</td>\n",
       "      <td>0</td>\n",
       "      <td>0</td>\n",
       "      <td>0</td>\n",
       "      <td>0</td>\n",
       "      <td>...</td>\n",
       "      <td>0</td>\n",
       "      <td>0</td>\n",
       "      <td>0</td>\n",
       "      <td>0</td>\n",
       "      <td>0</td>\n",
       "      <td>0</td>\n",
       "      <td>0</td>\n",
       "      <td>0</td>\n",
       "      <td>0</td>\n",
       "      <td>0</td>\n",
       "    </tr>\n",
       "    <tr>\n",
       "      <th>4</th>\n",
       "      <td>899999</td>\n",
       "      <td>3</td>\n",
       "      <td>3</td>\n",
       "      <td>1</td>\n",
       "      <td>0</td>\n",
       "      <td>0</td>\n",
       "      <td>0</td>\n",
       "      <td>0</td>\n",
       "      <td>0</td>\n",
       "      <td>0</td>\n",
       "      <td>...</td>\n",
       "      <td>0</td>\n",
       "      <td>0</td>\n",
       "      <td>0</td>\n",
       "      <td>0</td>\n",
       "      <td>0</td>\n",
       "      <td>0</td>\n",
       "      <td>0</td>\n",
       "      <td>0</td>\n",
       "      <td>0</td>\n",
       "      <td>0</td>\n",
       "    </tr>\n",
       "  </tbody>\n",
       "</table>\n",
       "<p>5 rows × 34 columns</p>\n",
       "</div>"
      ],
      "text/plain": [
       "    price  bedrooms  bathrooms  Ajax, ON  Aurora, ON  Brampton, ON  \\\n",
       "0  799000         3          3         1           0             0   \n",
       "1  989000         2          1         1           0             0   \n",
       "2  999900         3          4         1           0             0   \n",
       "3  799900         3          3         1           0             0   \n",
       "4  899999         3          3         1           0             0   \n",
       "\n",
       "   Brantford, ON  Brock, ON  Burlington, ON  Caledon, ON  ...  \\\n",
       "0              0          0               0            0  ...   \n",
       "1              0          0               0            0  ...   \n",
       "2              0          0               0            0  ...   \n",
       "3              0          0               0            0  ...   \n",
       "4              0          0               0            0  ...   \n",
       "\n",
       "   Old Toronto, Toronto, ON  Oshawa, ON  Pickering, ON  Richmond Hill, ON  \\\n",
       "0                         0           0              0                  0   \n",
       "1                         0           0              0                  0   \n",
       "2                         0           0              0                  0   \n",
       "3                         0           0              0                  0   \n",
       "4                         0           0              0                  0   \n",
       "\n",
       "   Scarborough, Toronto, ON  Scugog, ON  Uxbridge, ON  Vaughan, ON  \\\n",
       "0                         0           0             0            0   \n",
       "1                         0           0             0            0   \n",
       "2                         0           0             0            0   \n",
       "3                         0           0             0            0   \n",
       "4                         0           0             0            0   \n",
       "\n",
       "   Whitby, ON  Whitchurch-Stouffville, ON  \n",
       "0           0                           0  \n",
       "1           0                           0  \n",
       "2           0                           0  \n",
       "3           0                           0  \n",
       "4           0                           0  \n",
       "\n",
       "[5 rows x 34 columns]"
      ]
     },
     "execution_count": 90,
     "metadata": {},
     "output_type": "execute_result"
    }
   ],
   "source": [
    "df_region = pd.get_dummies(df[\"region\"])\n",
    "df = pd.concat([df,df_region], axis=1)\n",
    "df = df.drop(\"region\",axis=1)\n",
    "df.head()"
   ]
  },
  {
   "cell_type": "code",
   "execution_count": 119,
   "metadata": {},
   "outputs": [],
   "source": [
    "from sklearn.model_selection import train_test_split"
   ]
  },
  {
   "cell_type": "code",
   "execution_count": 120,
   "metadata": {},
   "outputs": [],
   "source": [
    "X_train, X_test, y_train, y_test = train_test_split(df.drop(\"price\",axis=1), df[\"price\"], test_size=0.2, random_state=101)"
   ]
  },
  {
   "cell_type": "code",
   "execution_count": 122,
   "metadata": {},
   "outputs": [],
   "source": [
    "from sklearn.preprocessing import MinMaxScaler\n",
    "scaler = MinMaxScaler()\n",
    "X_train= scaler.fit_transform(X_train)\n",
    "X_test = scaler.transform(X_test)"
   ]
  },
  {
   "cell_type": "code",
   "execution_count": 123,
   "metadata": {},
   "outputs": [],
   "source": [
    "from sklearn.linear_model import LinearRegression"
   ]
  },
  {
   "cell_type": "code",
   "execution_count": 124,
   "metadata": {},
   "outputs": [],
   "source": [
    "lm = LinearRegression()"
   ]
  },
  {
   "cell_type": "code",
   "execution_count": 125,
   "metadata": {},
   "outputs": [
    {
     "data": {
      "text/plain": [
       "LinearRegression()"
      ]
     },
     "execution_count": 125,
     "metadata": {},
     "output_type": "execute_result"
    }
   ],
   "source": [
    "lm.fit(X_train,y_train)"
   ]
  },
  {
   "cell_type": "code",
   "execution_count": 126,
   "metadata": {},
   "outputs": [
    {
     "data": {
      "text/plain": [
       "array([ 1.37310708e+06,  6.17297646e+06, -3.58271365e+18, -3.58271365e+18,\n",
       "       -3.58271365e+18, -3.58271365e+18, -3.58271365e+18, -3.58271365e+18,\n",
       "       -3.58271365e+18, -3.58271365e+18, -3.58271365e+18, -3.58271365e+18,\n",
       "       -3.58271365e+18, -3.58271365e+18, -3.58271365e+18, -3.58271365e+18,\n",
       "       -3.58271365e+18, -3.58271365e+18, -3.58271365e+18, -3.58271365e+18,\n",
       "       -3.58271365e+18, -3.58271365e+18, -3.58271365e+18, -3.58271365e+18,\n",
       "       -3.58271365e+18, -3.58271365e+18, -3.58271365e+18, -3.58271365e+18,\n",
       "       -3.58271365e+18, -3.58271365e+18, -3.58271365e+18, -3.58271365e+18,\n",
       "       -3.58271365e+18])"
      ]
     },
     "execution_count": 126,
     "metadata": {},
     "output_type": "execute_result"
    }
   ],
   "source": [
    "lm.coef_"
   ]
  },
  {
   "cell_type": "code",
   "execution_count": 127,
   "metadata": {},
   "outputs": [],
   "source": [
    "predictions= lm.predict(X_test)"
   ]
  },
  {
   "cell_type": "code",
   "execution_count": 128,
   "metadata": {},
   "outputs": [
    {
     "data": {
      "text/plain": [
       "<matplotlib.collections.PathCollection at 0x2d2a53f8dc0>"
      ]
     },
     "execution_count": 128,
     "metadata": {},
     "output_type": "execute_result"
    },
    {
     "data": {
      "image/png": "[encoded data removed]",
      "text/plain": [
       "<Figure size 432x288 with 1 Axes>"
      ]
     },
     "metadata": {
      "needs_background": "light"
     },
     "output_type": "display_data"
    }
   ],
   "source": [
    "plt.scatter(x=y_test,y=predictions)"
   ]
  },
  {
   "cell_type": "code",
   "execution_count": 129,
   "metadata": {},
   "outputs": [
    {
     "name": "stdout",
     "output_type": "stream",
     "text": [
      "MAE: 518514.376109215\n",
      "MSE: 1100396605764.4348\n",
      "RMSE: 1048997.9055100323\n"
     ]
    }
   ],
   "source": [
    "from sklearn import metrics\n",
    "print('MAE:', metrics.mean_absolute_error(y_test, predictions))\n",
    "print('MSE:', metrics.mean_squared_error(y_test, predictions))\n",
    "print('RMSE:', np.sqrt(metrics.mean_squared_error(y_test, predictions)))"
   ]
  },
  {
   "cell_type": "code",
   "execution_count": 130,
   "metadata": {},
   "outputs": [],
   "source": [
    "from sklearn.linear_model import Ridge\n",
    "ridge = Ridge()"
   ]
  },
  {
   "cell_type": "code",
   "execution_count": 131,
   "metadata": {},
   "outputs": [
    {
     "data": {
      "text/plain": [
       "Ridge()"
      ]
     },
     "execution_count": 131,
     "metadata": {},
     "output_type": "execute_result"
    }
   ],
   "source": [
    "ridge.fit(X_train,y_train)"
   ]
  },
  {
   "cell_type": "code",
   "execution_count": 132,
   "metadata": {},
   "outputs": [],
   "source": [
    "ridgepredictions= ridge.predict(X_test)"
   ]
  },
  {
   "cell_type": "code",
   "execution_count": 133,
   "metadata": {},
   "outputs": [
    {
     "data": {
      "text/plain": [
       "<matplotlib.collections.PathCollection at 0x2d2a97f1580>"
      ]
     },
     "execution_count": 133,
     "metadata": {},
     "output_type": "execute_result"
    },
    {
     "data": {
      "image/png": "[encoded data removed]",
      "text/plain": [
       "<Figure size 432x288 with 1 Axes>"
      ]
     },
     "metadata": {
      "needs_background": "light"
     },
     "output_type": "display_data"
    }
   ],
   "source": [
    "plt.scatter(x=y_test,y=ridgepredictions)"
   ]
  },
  {
   "cell_type": "code",
   "execution_count": 134,
   "metadata": {},
   "outputs": [
    {
     "name": "stdout",
     "output_type": "stream",
     "text": [
      "MAE: 515479.8554815179\n",
      "MSE: 1101249907742.1196\n",
      "RMSE: 1049404.5491335168\n"
     ]
    }
   ],
   "source": [
    "from sklearn import metrics\n",
    "print('MAE:', metrics.mean_absolute_error(y_test, ridgepredictions))\n",
    "print('MSE:', metrics.mean_squared_error(y_test, ridgepredictions))\n",
    "print('RMSE:', np.sqrt(metrics.mean_squared_error(y_test, ridgepredictions)))"
   ]
  },
  {
   "cell_type": "code",
   "execution_count": 159,
   "metadata": {},
   "outputs": [],
   "source": [
    "from sklearn.ensemble import RandomForestRegressor"
   ]
  },
  {
   "cell_type": "code",
   "execution_count": 160,
   "metadata": {},
   "outputs": [],
   "source": [
    "rfr=RandomForestRegressor()"
   ]
  },
  {
   "cell_type": "code",
   "execution_count": 161,
   "metadata": {},
   "outputs": [
    {
     "data": {
      "text/plain": [
       "RandomForestRegressor()"
      ]
     },
     "execution_count": 161,
     "metadata": {},
     "output_type": "execute_result"
    }
   ],
   "source": [
    "rfr.fit(X_train,y_train)"
   ]
  },
  {
   "cell_type": "code",
   "execution_count": 162,
   "metadata": {},
   "outputs": [],
   "source": [
    "rfrpredictions= rfr.predict(X_test)"
   ]
  },
  {
   "cell_type": "code",
   "execution_count": 163,
   "metadata": {},
   "outputs": [
    {
     "data": {
      "text/plain": [
       "<matplotlib.collections.PathCollection at 0x2d2b4171a60>"
      ]
     },
     "execution_count": 163,
     "metadata": {},
     "output_type": "execute_result"
    },
    {
     "data": {
      "image/png": "[encoded data removed]",
      "text/plain": [
       "<Figure size 432x288 with 1 Axes>"
      ]
     },
     "metadata": {
      "needs_background": "light"
     },
     "output_type": "display_data"
    }
   ],
   "source": [
    "plt.scatter(x=y_test,y=rfrpredictions)"
   ]
  },
  {
   "cell_type": "code",
   "execution_count": 140,
   "metadata": {},
   "outputs": [
    {
     "name": "stdout",
     "output_type": "stream",
     "text": [
      "MAE: 417839.5725510247\n",
      "MSE: 1005893393261.6824\n",
      "RMSE: 1002942.3678665103\n"
     ]
    }
   ],
   "source": [
    "from sklearn import metrics\n",
    "print('MAE:', metrics.mean_absolute_error(y_test, rfrpredictions))\n",
    "print('MSE:', metrics.mean_squared_error(y_test, rfrpredictions))\n",
    "print('RMSE:', np.sqrt(metrics.mean_squared_error(y_test, rfrpredictions)))"
   ]
  },
  {
   "cell_type": "code",
   "execution_count": 141,
   "metadata": {},
   "outputs": [],
   "source": [
    "from xgboost import XGBRegressor"
   ]
  },
  {
   "cell_type": "code",
   "execution_count": 142,
   "metadata": {},
   "outputs": [],
   "source": [
    "xgbr=XGBRegressor()"
   ]
  },
  {
   "cell_type": "code",
   "execution_count": 143,
   "metadata": {},
   "outputs": [
    {
     "data": {
      "text/plain": [
       "XGBRegressor(base_score=0.5, booster='gbtree', callbacks=None,\n",
       "             colsample_bylevel=1, colsample_bynode=1, colsample_bytree=1,\n",
       "             early_stopping_rounds=None, enable_categorical=False,\n",
       "             eval_metric=None, gamma=0, gpu_id=-1, grow_policy='depthwise',\n",
       "             importance_type=None, interaction_constraints='',\n",
       "             learning_rate=0.300000012, max_bin=256, max_cat_to_onehot=4,\n",
       "             max_delta_step=0, max_depth=6, max_leaves=0, min_child_weight=1,\n",
       "             missing=nan, monotone_constraints='()', n_estimators=100, n_jobs=0,\n",
       "             num_parallel_tree=1, predictor='auto', random_state=0, reg_alpha=0,\n",
       "             reg_lambda=1, ...)"
      ]
     },
     "execution_count": 143,
     "metadata": {},
     "output_type": "execute_result"
    }
   ],
   "source": [
    "xgbr.fit(X_train,y_train)"
   ]
  },
  {
   "cell_type": "code",
   "execution_count": 144,
   "metadata": {},
   "outputs": [],
   "source": [
    "xgbrpredictions= xgbr.predict(X_test)"
   ]
  },
  {
   "cell_type": "code",
   "execution_count": 145,
   "metadata": {},
   "outputs": [
    {
     "data": {
      "text/plain": [
       "<matplotlib.collections.PathCollection at 0x2d2a986a3d0>"
      ]
     },
     "execution_count": 145,
     "metadata": {},
     "output_type": "execute_result"
    },
    {
     "data": {
      "image/png": "[encoded data removed]",
      "text/plain": [
       "<Figure size 432x288 with 1 Axes>"
      ]
     },
     "metadata": {
      "needs_background": "light"
     },
     "output_type": "display_data"
    }
   ],
   "source": [
    "plt.scatter(x=y_test,y=xgbrpredictions)"
   ]
  },
  {
   "cell_type": "code",
   "execution_count": 146,
   "metadata": {},
   "outputs": [
    {
     "name": "stdout",
     "output_type": "stream",
     "text": [
      "MAE: 414490.73442832765\n",
      "MSE: 986611272137.3842\n",
      "RMSE: 993283.0775450593\n"
     ]
    }
   ],
   "source": [
    "from sklearn import metrics\n",
    "print('MAE:', metrics.mean_absolute_error(y_test, xgbrpredictions))\n",
    "print('MSE:', metrics.mean_squared_error(y_test, xgbrpredictions))\n",
    "print('RMSE:', np.sqrt(metrics.mean_squared_error(y_test, xgbrpredictions)))"
   ]
  },
  {
   "cell_type": "code",
   "execution_count": 147,
   "metadata": {},
   "outputs": [],
   "source": [
    "from tensorflow.keras.models import Sequential\n",
    "from tensorflow.keras.layers import Dense, Activation\n",
    "from tensorflow.keras.optimizers import Adam"
   ]
  },
  {
   "cell_type": "code",
   "execution_count": 148,
   "metadata": {},
   "outputs": [
    {
     "data": {
      "text/plain": [
       "(5859, 33)"
      ]
     },
     "execution_count": 148,
     "metadata": {},
     "output_type": "execute_result"
    }
   ],
   "source": [
    "X_train.shape"
   ]
  },
  {
   "cell_type": "code",
   "execution_count": 149,
   "metadata": {},
   "outputs": [],
   "source": [
    "model = Sequential()\n",
    "\n",
    "model.add(Dense(33,activation='relu'))\n",
    "model.add(Dense(33,activation='relu'))\n",
    "model.add(Dense(33,activation='relu'))\n",
    "model.add(Dense(33,activation='relu'))\n",
    "model.add(Dense(1))\n",
    "\n",
    "model.compile(optimizer='adam',loss='mse')"
   ]
  },
  {
   "cell_type": "code",
   "execution_count": 150,
   "metadata": {},
   "outputs": [
    {
     "name": "stdout",
     "output_type": "stream",
     "text": [
      "Epoch 1/400\n",
      "46/46 [==============================] - 1s 5ms/step - loss: 3906805694464.0000 - val_loss: 3879593312256.0000\n",
      "Epoch 2/400\n",
      "46/46 [==============================] - 0s 2ms/step - loss: 3906734129152.0000 - val_loss: 3879370489856.0000\n",
      "Epoch 3/400\n",
      "46/46 [==============================] - 0s 2ms/step - loss: 3905827373056.0000 - val_loss: 3877028495360.0000\n",
      "Epoch 4/400\n",
      "46/46 [==============================] - 0s 2ms/step - loss: 3899529101312.0000 - val_loss: 3863922343936.0000\n",
      "Epoch 5/400\n",
      "46/46 [==============================] - 0s 2ms/step - loss: 3872638107648.0000 - val_loss: 3816802484224.0000\n",
      "Epoch 6/400\n",
      "46/46 [==============================] - 0s 2ms/step - loss: 3792832561152.0000 - val_loss: 3692569296896.0000\n",
      "Epoch 7/400\n",
      "46/46 [==============================] - 0s 2ms/step - loss: 3608597233664.0000 - val_loss: 3433834741760.0000\n",
      "Epoch 8/400\n",
      "46/46 [==============================] - 0s 2ms/step - loss: 3268640505856.0000 - val_loss: 2998446325760.0000\n",
      "Epoch 9/400\n",
      "46/46 [==============================] - 0s 2ms/step - loss: 2765928792064.0000 - val_loss: 2439706050560.0000\n",
      "Epoch 10/400\n",
      "46/46 [==============================] - 0s 2ms/step - loss: 2210834153472.0000 - val_loss: 1936338059264.0000\n",
      "Epoch 11/400\n",
      "46/46 [==============================] - 0s 2ms/step - loss: 1820727836672.0000 - val_loss: 1678814216192.0000\n",
      "Epoch 12/400\n",
      "46/46 [==============================] - 0s 3ms/step - loss: 1664817561600.0000 - val_loss: 1604850286592.0000\n",
      "Epoch 13/400\n",
      "46/46 [==============================] - 0s 2ms/step - loss: 1616393404416.0000 - val_loss: 1574206439424.0000\n",
      "Epoch 14/400\n",
      "46/46 [==============================] - 0s 2ms/step - loss: 1585913921536.0000 - val_loss: 1550471135232.0000\n",
      "Epoch 15/400\n",
      "46/46 [==============================] - 0s 2ms/step - loss: 1561706102784.0000 - val_loss: 1530405978112.0000\n",
      "Epoch 16/400\n",
      "46/46 [==============================] - 0s 2ms/step - loss: 1540313186304.0000 - val_loss: 1512912453632.0000\n",
      "Epoch 17/400\n",
      "46/46 [==============================] - 0s 2ms/step - loss: 1521204199424.0000 - val_loss: 1496537235456.0000\n",
      "Epoch 18/400\n",
      "46/46 [==============================] - 0s 2ms/step - loss: 1503826542592.0000 - val_loss: 1481475620864.0000\n",
      "Epoch 19/400\n",
      "46/46 [==============================] - 0s 2ms/step - loss: 1487714779136.0000 - val_loss: 1467170684928.0000\n",
      "Epoch 20/400\n",
      "46/46 [==============================] - 0s 2ms/step - loss: 1472588808192.0000 - val_loss: 1454677819392.0000\n",
      "Epoch 21/400\n",
      "46/46 [==============================] - 0s 2ms/step - loss: 1458431459328.0000 - val_loss: 1442840576000.0000\n",
      "Epoch 22/400\n",
      "46/46 [==============================] - 0s 2ms/step - loss: 1445625593856.0000 - val_loss: 1431156162560.0000\n",
      "Epoch 23/400\n",
      "46/46 [==============================] - 0s 2ms/step - loss: 1432758255616.0000 - val_loss: 1419863785472.0000\n",
      "Epoch 24/400\n",
      "46/46 [==============================] - 0s 2ms/step - loss: 1421417512960.0000 - val_loss: 1410042298368.0000\n",
      "Epoch 25/400\n",
      "46/46 [==============================] - 0s 2ms/step - loss: 1410162360320.0000 - val_loss: 1400642863104.0000\n",
      "Epoch 26/400\n",
      "46/46 [==============================] - 0s 2ms/step - loss: 1400267866112.0000 - val_loss: 1391578972160.0000\n",
      "Epoch 27/400\n",
      "46/46 [==============================] - 0s 2ms/step - loss: 1390659371008.0000 - val_loss: 1382506954752.0000\n",
      "Epoch 28/400\n",
      "46/46 [==============================] - 0s 2ms/step - loss: 1381407129600.0000 - val_loss: 1374975295488.0000\n",
      "Epoch 29/400\n",
      "46/46 [==============================] - 0s 2ms/step - loss: 1372620193792.0000 - val_loss: 1367112024064.0000\n",
      "Epoch 30/400\n",
      "46/46 [==============================] - 0s 2ms/step - loss: 1366346301440.0000 - val_loss: 1359463710720.0000\n",
      "Epoch 31/400\n",
      "46/46 [==============================] - 0s 2ms/step - loss: 1357391331328.0000 - val_loss: 1352991244288.0000\n",
      "Epoch 32/400\n",
      "46/46 [==============================] - 0s 2ms/step - loss: 1350023643136.0000 - val_loss: 1346741338112.0000\n",
      "Epoch 33/400\n",
      "46/46 [==============================] - 0s 3ms/step - loss: 1342963580928.0000 - val_loss: 1339974352896.0000\n",
      "Epoch 34/400\n",
      "46/46 [==============================] - 0s 2ms/step - loss: 1336337367040.0000 - val_loss: 1334142042112.0000\n",
      "Epoch 35/400\n",
      "46/46 [==============================] - 0s 2ms/step - loss: 1330645958656.0000 - val_loss: 1327990964224.0000\n",
      "Epoch 36/400\n",
      "46/46 [==============================] - 0s 2ms/step - loss: 1324552290304.0000 - val_loss: 1322901569536.0000\n",
      "Epoch 37/400\n",
      "46/46 [==============================] - 0s 2ms/step - loss: 1318853410816.0000 - val_loss: 1317095997440.0000\n",
      "Epoch 38/400\n",
      "46/46 [==============================] - 0s 2ms/step - loss: 1313316405248.0000 - val_loss: 1311743410176.0000\n",
      "Epoch 39/400\n",
      "46/46 [==============================] - 0s 2ms/step - loss: 1308314042368.0000 - val_loss: 1306425294848.0000\n",
      "Epoch 40/400\n",
      "46/46 [==============================] - 0s 2ms/step - loss: 1303146921984.0000 - val_loss: 1301249523712.0000\n",
      "Epoch 41/400\n",
      "46/46 [==============================] - 0s 2ms/step - loss: 1298067488768.0000 - val_loss: 1296740646912.0000\n",
      "Epoch 42/400\n",
      "46/46 [==============================] - 0s 2ms/step - loss: 1293357285376.0000 - val_loss: 1291293687808.0000\n",
      "Epoch 43/400\n",
      "46/46 [==============================] - 0s 2ms/step - loss: 1288895463424.0000 - val_loss: 1286607470592.0000\n",
      "Epoch 44/400\n",
      "46/46 [==============================] - 0s 2ms/step - loss: 1285840175104.0000 - val_loss: 1282112356352.0000\n",
      "Epoch 45/400\n",
      "46/46 [==============================] - 0s 2ms/step - loss: 1280820772864.0000 - val_loss: 1278391615488.0000\n",
      "Epoch 46/400\n",
      "46/46 [==============================] - 0s 2ms/step - loss: 1275457306624.0000 - val_loss: 1272481054720.0000\n",
      "Epoch 47/400\n",
      "46/46 [==============================] - 0s 2ms/step - loss: 1271566303232.0000 - val_loss: 1268029980672.0000\n",
      "Epoch 48/400\n",
      "46/46 [==============================] - 0s 2ms/step - loss: 1267736379392.0000 - val_loss: 1263755067392.0000\n",
      "Epoch 49/400\n",
      "46/46 [==============================] - 0s 2ms/step - loss: 1263157510144.0000 - val_loss: 1259609784320.0000\n",
      "Epoch 50/400\n",
      "46/46 [==============================] - 0s 2ms/step - loss: 1259570724864.0000 - val_loss: 1255458734080.0000\n",
      "Epoch 51/400\n",
      "46/46 [==============================] - 0s 2ms/step - loss: 1255470792704.0000 - val_loss: 1251011067904.0000\n",
      "Epoch 52/400\n",
      "46/46 [==============================] - 0s 2ms/step - loss: 1251888594944.0000 - val_loss: 1246517133312.0000\n",
      "Epoch 53/400\n",
      "46/46 [==============================] - 0s 2ms/step - loss: 1248145833984.0000 - val_loss: 1242811990016.0000\n",
      "Epoch 54/400\n",
      "46/46 [==============================] - 0s 2ms/step - loss: 1244867854336.0000 - val_loss: 1238295379968.0000\n",
      "Epoch 55/400\n",
      "46/46 [==============================] - 0s 2ms/step - loss: 1240546410496.0000 - val_loss: 1234321801216.0000\n",
      "Epoch 56/400\n",
      "46/46 [==============================] - 0s 2ms/step - loss: 1237583659008.0000 - val_loss: 1230132740096.0000\n",
      "Epoch 57/400\n",
      "46/46 [==============================] - 0s 2ms/step - loss: 1233215946752.0000 - val_loss: 1226236755968.0000\n",
      "Epoch 58/400\n",
      "46/46 [==============================] - 0s 2ms/step - loss: 1229823148032.0000 - val_loss: 1222864011264.0000\n",
      "Epoch 59/400\n",
      "46/46 [==============================] - 0s 2ms/step - loss: 1226472161280.0000 - val_loss: 1218345041920.0000\n",
      "Epoch 60/400\n",
      "46/46 [==============================] - 0s 2ms/step - loss: 1223222099968.0000 - val_loss: 1215570378752.0000\n",
      "Epoch 61/400\n",
      "46/46 [==============================] - 0s 2ms/step - loss: 1219272376320.0000 - val_loss: 1211142897664.0000\n",
      "Epoch 62/400\n",
      "46/46 [==============================] - 0s 2ms/step - loss: 1216118128640.0000 - val_loss: 1207732011008.0000\n",
      "Epoch 63/400\n",
      "46/46 [==============================] - 0s 2ms/step - loss: 1213635362816.0000 - val_loss: 1204303298560.0000\n",
      "Epoch 64/400\n",
      "46/46 [==============================] - 0s 2ms/step - loss: 1210041761792.0000 - val_loss: 1201114710016.0000\n",
      "Epoch 65/400\n",
      "46/46 [==============================] - 0s 2ms/step - loss: 1206554066944.0000 - val_loss: 1197567377408.0000\n",
      "Epoch 66/400\n",
      "46/46 [==============================] - 0s 2ms/step - loss: 1203665108992.0000 - val_loss: 1193965387776.0000\n",
      "Epoch 67/400\n"
     ]
    },
    {
     "name": "stdout",
     "output_type": "stream",
     "text": [
      "46/46 [==============================] - 0s 2ms/step - loss: 1200830808064.0000 - val_loss: 1190204145664.0000\n",
      "Epoch 68/400\n",
      "46/46 [==============================] - 0s 2ms/step - loss: 1198196391936.0000 - val_loss: 1187619405824.0000\n",
      "Epoch 69/400\n",
      "46/46 [==============================] - 0s 2ms/step - loss: 1195143593984.0000 - val_loss: 1184424787968.0000\n",
      "Epoch 70/400\n",
      "46/46 [==============================] - 0s 2ms/step - loss: 1192093286400.0000 - val_loss: 1181404758016.0000\n",
      "Epoch 71/400\n",
      "46/46 [==============================] - 0s 2ms/step - loss: 1189634637824.0000 - val_loss: 1178173177856.0000\n",
      "Epoch 72/400\n",
      "46/46 [==============================] - 0s 2ms/step - loss: 1186554970112.0000 - val_loss: 1175045668864.0000\n",
      "Epoch 73/400\n",
      "46/46 [==============================] - 0s 2ms/step - loss: 1184954974208.0000 - val_loss: 1173236219904.0000\n",
      "Epoch 74/400\n",
      "46/46 [==============================] - 0s 2ms/step - loss: 1181924327424.0000 - val_loss: 1169953128448.0000\n",
      "Epoch 75/400\n",
      "46/46 [==============================] - 0s 2ms/step - loss: 1179557560320.0000 - val_loss: 1167281094656.0000\n",
      "Epoch 76/400\n",
      "46/46 [==============================] - 0s 2ms/step - loss: 1176538841088.0000 - val_loss: 1164511543296.0000\n",
      "Epoch 77/400\n",
      "46/46 [==============================] - 0s 2ms/step - loss: 1173640183808.0000 - val_loss: 1161534111744.0000\n",
      "Epoch 78/400\n",
      "46/46 [==============================] - 0s 2ms/step - loss: 1171074318336.0000 - val_loss: 1158582894592.0000\n",
      "Epoch 79/400\n",
      "46/46 [==============================] - 0s 2ms/step - loss: 1168754081792.0000 - val_loss: 1156209836032.0000\n",
      "Epoch 80/400\n",
      "46/46 [==============================] - 0s 2ms/step - loss: 1166213251072.0000 - val_loss: 1153752236032.0000\n",
      "Epoch 81/400\n",
      "46/46 [==============================] - 0s 2ms/step - loss: 1164422414336.0000 - val_loss: 1151032885248.0000\n",
      "Epoch 82/400\n",
      "46/46 [==============================] - 0s 2ms/step - loss: 1161770041344.0000 - val_loss: 1148712779776.0000\n",
      "Epoch 83/400\n",
      "46/46 [==============================] - 0s 2ms/step - loss: 1159749697536.0000 - val_loss: 1146346536960.0000\n",
      "Epoch 84/400\n",
      "46/46 [==============================] - 0s 2ms/step - loss: 1157569052672.0000 - val_loss: 1143884480512.0000\n",
      "Epoch 85/400\n",
      "46/46 [==============================] - 0s 2ms/step - loss: 1155039756288.0000 - val_loss: 1141263171584.0000\n",
      "Epoch 86/400\n",
      "46/46 [==============================] - 0s 2ms/step - loss: 1153447362560.0000 - val_loss: 1139369050112.0000\n",
      "Epoch 87/400\n",
      "46/46 [==============================] - 0s 2ms/step - loss: 1152377159680.0000 - val_loss: 1137053138944.0000\n",
      "Epoch 88/400\n",
      "46/46 [==============================] - 0s 2ms/step - loss: 1149206134784.0000 - val_loss: 1134565785600.0000\n",
      "Epoch 89/400\n",
      "46/46 [==============================] - 0s 2ms/step - loss: 1147263385600.0000 - val_loss: 1132483837952.0000\n",
      "Epoch 90/400\n",
      "46/46 [==============================] - 0s 2ms/step - loss: 1145370836992.0000 - val_loss: 1130533879808.0000\n",
      "Epoch 91/400\n",
      "46/46 [==============================] - 0s 2ms/step - loss: 1143712382976.0000 - val_loss: 1128266072064.0000\n",
      "Epoch 92/400\n",
      "46/46 [==============================] - 0s 2ms/step - loss: 1141161721856.0000 - val_loss: 1126721388544.0000\n",
      "Epoch 93/400\n",
      "46/46 [==============================] - 0s 2ms/step - loss: 1139942621184.0000 - val_loss: 1125518934016.0000\n",
      "Epoch 94/400\n",
      "46/46 [==============================] - 0s 2ms/step - loss: 1137790681088.0000 - val_loss: 1122710061056.0000\n",
      "Epoch 95/400\n",
      "46/46 [==============================] - 0s 2ms/step - loss: 1135810183168.0000 - val_loss: 1120708722688.0000\n",
      "Epoch 96/400\n",
      "46/46 [==============================] - 0s 2ms/step - loss: 1134216347648.0000 - val_loss: 1119263129600.0000\n",
      "Epoch 97/400\n",
      "46/46 [==============================] - 0s 2ms/step - loss: 1133430308864.0000 - val_loss: 1117746233344.0000\n",
      "Epoch 98/400\n",
      "46/46 [==============================] - 0s 2ms/step - loss: 1130476732416.0000 - val_loss: 1115194130432.0000\n",
      "Epoch 99/400\n",
      "46/46 [==============================] - 0s 2ms/step - loss: 1128423620608.0000 - val_loss: 1113744736256.0000\n",
      "Epoch 100/400\n",
      "46/46 [==============================] - 0s 2ms/step - loss: 1126826377216.0000 - val_loss: 1111943938048.0000\n",
      "Epoch 101/400\n",
      "46/46 [==============================] - 0s 2ms/step - loss: 1125333991424.0000 - val_loss: 1109994635264.0000\n",
      "Epoch 102/400\n",
      "46/46 [==============================] - 0s 2ms/step - loss: 1123599908864.0000 - val_loss: 1108446543872.0000\n",
      "Epoch 103/400\n",
      "46/46 [==============================] - 0s 2ms/step - loss: 1122042118144.0000 - val_loss: 1106811813888.0000\n",
      "Epoch 104/400\n",
      "46/46 [==============================] - 0s 2ms/step - loss: 1120481181696.0000 - val_loss: 1105178525696.0000\n",
      "Epoch 105/400\n",
      "46/46 [==============================] - 0s 2ms/step - loss: 1119232851968.0000 - val_loss: 1103728869376.0000\n",
      "Epoch 106/400\n",
      "46/46 [==============================] - 0s 2ms/step - loss: 1117929865216.0000 - val_loss: 1102406615040.0000\n",
      "Epoch 107/400\n",
      "46/46 [==============================] - 0s 4ms/step - loss: 1116004941824.0000 - val_loss: 1100753272832.0000\n",
      "Epoch 108/400\n",
      "46/46 [==============================] - 0s 5ms/step - loss: 1114824376320.0000 - val_loss: 1099244503040.0000\n",
      "Epoch 109/400\n",
      "46/46 [==============================] - 0s 4ms/step - loss: 1114126942208.0000 - val_loss: 1097647783936.0000\n",
      "Epoch 110/400\n",
      "46/46 [==============================] - 0s 3ms/step - loss: 1112183799808.0000 - val_loss: 1096106508288.0000\n",
      "Epoch 111/400\n",
      "46/46 [==============================] - 0s 3ms/step - loss: 1110903619584.0000 - val_loss: 1095569571840.0000\n",
      "Epoch 112/400\n",
      "46/46 [==============================] - 0s 3ms/step - loss: 1109371387904.0000 - val_loss: 1093528715264.0000\n",
      "Epoch 113/400\n",
      "46/46 [==============================] - 0s 4ms/step - loss: 1107925663744.0000 - val_loss: 1092731666432.0000\n",
      "Epoch 114/400\n",
      "46/46 [==============================] - 0s 2ms/step - loss: 1106742870016.0000 - val_loss: 1090478538752.0000\n",
      "Epoch 115/400\n",
      "46/46 [==============================] - 0s 3ms/step - loss: 1105952374784.0000 - val_loss: 1089370456064.0000\n",
      "Epoch 116/400\n",
      "46/46 [==============================] - 0s 3ms/step - loss: 1104213442560.0000 - val_loss: 1087464931328.0000\n",
      "Epoch 117/400\n",
      "46/46 [==============================] - 0s 3ms/step - loss: 1102725644288.0000 - val_loss: 1086335877120.0000\n",
      "Epoch 118/400\n",
      "46/46 [==============================] - 0s 2ms/step - loss: 1101008207872.0000 - val_loss: 1085215997952.0000\n",
      "Epoch 119/400\n",
      "46/46 [==============================] - 0s 2ms/step - loss: 1099939971072.0000 - val_loss: 1084297641984.0000\n",
      "Epoch 120/400\n",
      "46/46 [==============================] - 0s 3ms/step - loss: 1099105501184.0000 - val_loss: 1082948124672.0000\n",
      "Epoch 121/400\n",
      "46/46 [==============================] - 0s 2ms/step - loss: 1097779249152.0000 - val_loss: 1081336922112.0000\n",
      "Epoch 122/400\n",
      "46/46 [==============================] - 0s 2ms/step - loss: 1096320483328.0000 - val_loss: 1080484298752.0000\n",
      "Epoch 123/400\n",
      "46/46 [==============================] - 0s 2ms/step - loss: 1094859292672.0000 - val_loss: 1078968451072.0000\n",
      "Epoch 124/400\n",
      "46/46 [==============================] - 0s 2ms/step - loss: 1093488214016.0000 - val_loss: 1077355610112.0000\n",
      "Epoch 125/400\n",
      "46/46 [==============================] - 0s 2ms/step - loss: 1092397301760.0000 - val_loss: 1075936231424.0000\n",
      "Epoch 126/400\n",
      "46/46 [==============================] - 0s 3ms/step - loss: 1091267330048.0000 - val_loss: 1075000901632.0000\n",
      "Epoch 127/400\n",
      "46/46 [==============================] - 0s 3ms/step - loss: 1089537310720.0000 - val_loss: 1073785864192.0000\n",
      "Epoch 128/400\n",
      "46/46 [==============================] - 0s 2ms/step - loss: 1088466059264.0000 - val_loss: 1072022028288.0000\n",
      "Epoch 129/400\n",
      "46/46 [==============================] - 0s 2ms/step - loss: 1087145705472.0000 - val_loss: 1071277735936.0000\n",
      "Epoch 130/400\n",
      "46/46 [==============================] - 0s 2ms/step - loss: 1086517018624.0000 - val_loss: 1069919895552.0000\n",
      "Epoch 131/400\n",
      "46/46 [==============================] - 0s 2ms/step - loss: 1084891201536.0000 - val_loss: 1068510150656.0000\n",
      "Epoch 132/400\n",
      "46/46 [==============================] - 0s 2ms/step - loss: 1083840724992.0000 - val_loss: 1067460460544.0000\n"
     ]
    },
    {
     "name": "stdout",
     "output_type": "stream",
     "text": [
      "Epoch 133/400\n",
      "46/46 [==============================] - 0s 2ms/step - loss: 1082710491136.0000 - val_loss: 1066420207616.0000\n",
      "Epoch 134/400\n",
      "46/46 [==============================] - 0s 2ms/step - loss: 1081901449216.0000 - val_loss: 1065073377280.0000\n",
      "Epoch 135/400\n",
      "46/46 [==============================] - 0s 2ms/step - loss: 1080315019264.0000 - val_loss: 1063922827264.0000\n",
      "Epoch 136/400\n",
      "46/46 [==============================] - 0s 2ms/step - loss: 1079551459328.0000 - val_loss: 1063022362624.0000\n",
      "Epoch 137/400\n",
      "46/46 [==============================] - 0s 2ms/step - loss: 1078656892928.0000 - val_loss: 1061338742784.0000\n",
      "Epoch 138/400\n",
      "46/46 [==============================] - 0s 2ms/step - loss: 1077132263424.0000 - val_loss: 1060545953792.0000\n",
      "Epoch 139/400\n",
      "46/46 [==============================] - 0s 2ms/step - loss: 1077193408512.0000 - val_loss: 1059484991488.0000\n",
      "Epoch 140/400\n",
      "46/46 [==============================] - 0s 2ms/step - loss: 1076166393856.0000 - val_loss: 1057641005056.0000\n",
      "Epoch 141/400\n",
      "46/46 [==============================] - 0s 2ms/step - loss: 1073962024960.0000 - val_loss: 1058440151040.0000\n",
      "Epoch 142/400\n",
      "46/46 [==============================] - 0s 2ms/step - loss: 1073691492352.0000 - val_loss: 1056430030848.0000\n",
      "Epoch 143/400\n",
      "46/46 [==============================] - 0s 2ms/step - loss: 1072848240640.0000 - val_loss: 1055353995264.0000\n",
      "Epoch 144/400\n",
      "46/46 [==============================] - 0s 2ms/step - loss: 1071421718528.0000 - val_loss: 1055233802240.0000\n",
      "Epoch 145/400\n",
      "46/46 [==============================] - 0s 2ms/step - loss: 1071007596544.0000 - val_loss: 1053604708352.0000\n",
      "Epoch 146/400\n",
      "46/46 [==============================] - 0s 2ms/step - loss: 1070759870464.0000 - val_loss: 1052676390912.0000\n",
      "Epoch 147/400\n",
      "46/46 [==============================] - 0s 2ms/step - loss: 1069140148224.0000 - val_loss: 1052034924544.0000\n",
      "Epoch 148/400\n",
      "46/46 [==============================] - 0s 2ms/step - loss: 1067789910016.0000 - val_loss: 1049863061504.0000\n",
      "Epoch 149/400\n",
      "46/46 [==============================] - 0s 2ms/step - loss: 1067415371776.0000 - val_loss: 1049277628416.0000\n",
      "Epoch 150/400\n",
      "46/46 [==============================] - 0s 2ms/step - loss: 1065831825408.0000 - val_loss: 1048096604160.0000\n",
      "Epoch 151/400\n",
      "46/46 [==============================] - 0s 2ms/step - loss: 1065516335104.0000 - val_loss: 1047685365760.0000\n",
      "Epoch 152/400\n",
      "46/46 [==============================] - 0s 2ms/step - loss: 1064347435008.0000 - val_loss: 1046375956480.0000\n",
      "Epoch 153/400\n",
      "46/46 [==============================] - 0s 2ms/step - loss: 1063588265984.0000 - val_loss: 1045951348736.0000\n",
      "Epoch 154/400\n",
      "46/46 [==============================] - 0s 2ms/step - loss: 1062168100864.0000 - val_loss: 1044569915392.0000\n",
      "Epoch 155/400\n",
      "46/46 [==============================] - 0s 2ms/step - loss: 1061819252736.0000 - val_loss: 1043310772224.0000\n",
      "Epoch 156/400\n",
      "46/46 [==============================] - 0s 2ms/step - loss: 1060804165632.0000 - val_loss: 1042670747648.0000\n",
      "Epoch 157/400\n",
      "46/46 [==============================] - 0s 3ms/step - loss: 1059542925312.0000 - val_loss: 1041688231936.0000\n",
      "Epoch 158/400\n",
      "46/46 [==============================] - 0s 3ms/step - loss: 1058234630144.0000 - val_loss: 1040951934976.0000\n",
      "Epoch 159/400\n",
      "46/46 [==============================] - 0s 2ms/step - loss: 1057788461056.0000 - val_loss: 1039810101248.0000\n",
      "Epoch 160/400\n",
      "46/46 [==============================] - 0s 3ms/step - loss: 1056905101312.0000 - val_loss: 1037770752000.0000\n",
      "Epoch 161/400\n",
      "46/46 [==============================] - 0s 2ms/step - loss: 1057203748864.0000 - val_loss: 1037617201152.0000\n",
      "Epoch 162/400\n",
      "46/46 [==============================] - 0s 2ms/step - loss: 1054048976896.0000 - val_loss: 1036900040704.0000\n",
      "Epoch 163/400\n",
      "46/46 [==============================] - 0s 2ms/step - loss: 1053867048960.0000 - val_loss: 1035655315456.0000\n",
      "Epoch 164/400\n",
      "46/46 [==============================] - 0s 2ms/step - loss: 1052998828032.0000 - val_loss: 1034096082944.0000\n",
      "Epoch 165/400\n",
      "46/46 [==============================] - 0s 2ms/step - loss: 1051715698688.0000 - val_loss: 1034284171264.0000\n",
      "Epoch 166/400\n",
      "46/46 [==============================] - 0s 4ms/step - loss: 1051047559168.0000 - val_loss: 1032456437760.0000\n",
      "Epoch 167/400\n",
      "46/46 [==============================] - 0s 3ms/step - loss: 1049855262720.0000 - val_loss: 1031767785472.0000\n",
      "Epoch 168/400\n",
      "46/46 [==============================] - 0s 2ms/step - loss: 1048532353024.0000 - val_loss: 1029981470720.0000\n",
      "Epoch 169/400\n",
      "46/46 [==============================] - 0s 3ms/step - loss: 1049894191104.0000 - val_loss: 1028792057856.0000\n",
      "Epoch 170/400\n",
      "46/46 [==============================] - 0s 3ms/step - loss: 1046676176896.0000 - val_loss: 1028397662208.0000\n",
      "Epoch 171/400\n",
      "46/46 [==============================] - 0s 3ms/step - loss: 1045396127744.0000 - val_loss: 1027000238080.0000\n",
      "Epoch 172/400\n",
      "46/46 [==============================] - 0s 2ms/step - loss: 1044660158464.0000 - val_loss: 1026973696000.0000\n",
      "Epoch 173/400\n",
      "46/46 [==============================] - 0s 2ms/step - loss: 1043364315136.0000 - val_loss: 1025240137728.0000\n",
      "Epoch 174/400\n",
      "46/46 [==============================] - 0s 2ms/step - loss: 1042805358592.0000 - val_loss: 1024152240128.0000\n",
      "Epoch 175/400\n",
      "46/46 [==============================] - 0s 2ms/step - loss: 1041532780544.0000 - val_loss: 1023094292480.0000\n",
      "Epoch 176/400\n",
      "46/46 [==============================] - 0s 3ms/step - loss: 1040425746432.0000 - val_loss: 1021941317632.0000\n",
      "Epoch 177/400\n",
      "46/46 [==============================] - 0s 4ms/step - loss: 1040155344896.0000 - val_loss: 1020927344640.0000\n",
      "Epoch 178/400\n",
      "46/46 [==============================] - 0s 3ms/step - loss: 1039245377536.0000 - val_loss: 1019994243072.0000\n",
      "Epoch 179/400\n",
      "46/46 [==============================] - 0s 3ms/step - loss: 1038094565376.0000 - val_loss: 1019088076800.0000\n",
      "Epoch 180/400\n",
      "46/46 [==============================] - 0s 3ms/step - loss: 1036945391616.0000 - val_loss: 1018062372864.0000\n",
      "Epoch 181/400\n",
      "46/46 [==============================] - 0s 3ms/step - loss: 1036400459776.0000 - val_loss: 1019093581824.0000\n",
      "Epoch 182/400\n",
      "46/46 [==============================] - 0s 4ms/step - loss: 1034943463424.0000 - val_loss: 1016445403136.0000\n",
      "Epoch 183/400\n",
      "46/46 [==============================] - 0s 4ms/step - loss: 1033419685888.0000 - val_loss: 1015488577536.0000\n",
      "Epoch 184/400\n",
      "46/46 [==============================] - 0s 3ms/step - loss: 1032643018752.0000 - val_loss: 1014667149312.0000\n",
      "Epoch 185/400\n",
      "46/46 [==============================] - 0s 2ms/step - loss: 1031649099776.0000 - val_loss: 1013988458496.0000\n",
      "Epoch 186/400\n",
      "46/46 [==============================] - 0s 2ms/step - loss: 1030842482688.0000 - val_loss: 1012534476800.0000\n",
      "Epoch 187/400\n",
      "46/46 [==============================] - 0s 2ms/step - loss: 1029723717632.0000 - val_loss: 1012304904192.0000\n",
      "Epoch 188/400\n",
      "46/46 [==============================] - 0s 2ms/step - loss: 1029742723072.0000 - val_loss: 1011232014336.0000\n",
      "Epoch 189/400\n",
      "46/46 [==============================] - 0s 2ms/step - loss: 1028200923136.0000 - val_loss: 1010687082496.0000\n",
      "Epoch 190/400\n",
      "46/46 [==============================] - 0s 2ms/step - loss: 1027321036800.0000 - val_loss: 1009150328832.0000\n",
      "Epoch 191/400\n",
      "46/46 [==============================] - 0s 2ms/step - loss: 1026645229568.0000 - val_loss: 1008178692096.0000\n",
      "Epoch 192/400\n",
      "46/46 [==============================] - 0s 3ms/step - loss: 1025468137472.0000 - val_loss: 1007770533888.0000\n",
      "Epoch 193/400\n",
      "46/46 [==============================] - 0s 2ms/step - loss: 1024649986048.0000 - val_loss: 1006702100480.0000\n",
      "Epoch 194/400\n",
      "46/46 [==============================] - 0s 2ms/step - loss: 1023806996480.0000 - val_loss: 1005514391552.0000\n",
      "Epoch 195/400\n",
      "46/46 [==============================] - 0s 2ms/step - loss: 1023057788928.0000 - val_loss: 1004844810240.0000\n",
      "Epoch 196/400\n",
      "46/46 [==============================] - 0s 2ms/step - loss: 1022056267776.0000 - val_loss: 1004653248512.0000\n",
      "Epoch 197/400\n",
      "46/46 [==============================] - 0s 2ms/step - loss: 1021172121600.0000 - val_loss: 1003201953792.0000\n",
      "Epoch 198/400\n"
     ]
    },
    {
     "name": "stdout",
     "output_type": "stream",
     "text": [
      "46/46 [==============================] - 0s 2ms/step - loss: 1021248667648.0000 - val_loss: 1002530537472.0000\n",
      "Epoch 199/400\n",
      "46/46 [==============================] - 0s 3ms/step - loss: 1020039593984.0000 - val_loss: 1000542240768.0000\n",
      "Epoch 200/400\n",
      "46/46 [==============================] - 0s 3ms/step - loss: 1018837467136.0000 - val_loss: 1000983625728.0000\n",
      "Epoch 201/400\n",
      "46/46 [==============================] - 0s 4ms/step - loss: 1017699762176.0000 - val_loss: 999813414912.0000\n",
      "Epoch 202/400\n",
      "46/46 [==============================] - 0s 2ms/step - loss: 1016839733248.0000 - val_loss: 999383171072.0000\n",
      "Epoch 203/400\n",
      "46/46 [==============================] - 0s 2ms/step - loss: 1016180899840.0000 - val_loss: 998291734528.0000\n",
      "Epoch 204/400\n",
      "46/46 [==============================] - 0s 3ms/step - loss: 1015509876736.0000 - val_loss: 996974788608.0000\n",
      "Epoch 205/400\n",
      "46/46 [==============================] - 0s 2ms/step - loss: 1014949085184.0000 - val_loss: 998166495232.0000\n",
      "Epoch 206/400\n",
      "46/46 [==============================] - 0s 4ms/step - loss: 1014292480000.0000 - val_loss: 996362485760.0000\n",
      "Epoch 207/400\n",
      "46/46 [==============================] - 0s 4ms/step - loss: 1012792754176.0000 - val_loss: 994830254080.0000\n",
      "Epoch 208/400\n",
      "46/46 [==============================] - 0s 3ms/step - loss: 1012146241536.0000 - val_loss: 993840529408.0000\n",
      "Epoch 209/400\n",
      "46/46 [==============================] - 0s 3ms/step - loss: 1011211239424.0000 - val_loss: 993107640320.0000\n",
      "Epoch 210/400\n",
      "46/46 [==============================] - 0s 3ms/step - loss: 1010993266688.0000 - val_loss: 992269565952.0000\n",
      "Epoch 211/400\n",
      "46/46 [==============================] - 0s 2ms/step - loss: 1009983488000.0000 - val_loss: 991583272960.0000\n",
      "Epoch 212/400\n",
      "46/46 [==============================] - 0s 3ms/step - loss: 1008891068416.0000 - val_loss: 991819464704.0000\n",
      "Epoch 213/400\n",
      "46/46 [==============================] - 0s 3ms/step - loss: 1008007053312.0000 - val_loss: 990706204672.0000\n",
      "Epoch 214/400\n",
      "46/46 [==============================] - 0s 2ms/step - loss: 1007288582144.0000 - val_loss: 989567975424.0000\n",
      "Epoch 215/400\n",
      "46/46 [==============================] - 0s 2ms/step - loss: 1006751252480.0000 - val_loss: 989233217536.0000\n",
      "Epoch 216/400\n",
      "46/46 [==============================] - 0s 2ms/step - loss: 1006192230400.0000 - val_loss: 989499883520.0000\n",
      "Epoch 217/400\n",
      "46/46 [==============================] - 0s 3ms/step - loss: 1005190774784.0000 - val_loss: 987696005120.0000\n",
      "Epoch 218/400\n",
      "46/46 [==============================] - 0s 2ms/step - loss: 1004283822080.0000 - val_loss: 987547828224.0000\n",
      "Epoch 219/400\n",
      "46/46 [==============================] - 0s 2ms/step - loss: 1003372150784.0000 - val_loss: 986426703872.0000\n",
      "Epoch 220/400\n",
      "46/46 [==============================] - 0s 2ms/step - loss: 1002389569536.0000 - val_loss: 984730370048.0000\n",
      "Epoch 221/400\n",
      "46/46 [==============================] - 0s 2ms/step - loss: 1001535569920.0000 - val_loss: 983618224128.0000\n",
      "Epoch 222/400\n",
      "46/46 [==============================] - 0s 2ms/step - loss: 1000734130176.0000 - val_loss: 983833182208.0000\n",
      "Epoch 223/400\n",
      "46/46 [==============================] - 0s 2ms/step - loss: 999962443776.0000 - val_loss: 982997008384.0000\n",
      "Epoch 224/400\n",
      "46/46 [==============================] - 0s 2ms/step - loss: 999440121856.0000 - val_loss: 982299967488.0000\n",
      "Epoch 225/400\n",
      "46/46 [==============================] - 0s 2ms/step - loss: 998144802816.0000 - val_loss: 981216985088.0000\n",
      "Epoch 226/400\n",
      "46/46 [==============================] - 0s 2ms/step - loss: 998033784832.0000 - val_loss: 980446609408.0000\n",
      "Epoch 227/400\n",
      "46/46 [==============================] - 0s 2ms/step - loss: 996877926400.0000 - val_loss: 980035502080.0000\n",
      "Epoch 228/400\n",
      "46/46 [==============================] - 0s 2ms/step - loss: 996645208064.0000 - val_loss: 978265178112.0000\n",
      "Epoch 229/400\n",
      "46/46 [==============================] - 0s 2ms/step - loss: 994975481856.0000 - val_loss: 977161289728.0000\n",
      "Epoch 230/400\n",
      "46/46 [==============================] - 0s 2ms/step - loss: 994607104000.0000 - val_loss: 977411309568.0000\n",
      "Epoch 231/400\n",
      "46/46 [==============================] - 0s 2ms/step - loss: 994543140864.0000 - val_loss: 976077062144.0000\n",
      "Epoch 232/400\n",
      "46/46 [==============================] - 0s 2ms/step - loss: 993102397440.0000 - val_loss: 974619869184.0000\n",
      "Epoch 233/400\n",
      "46/46 [==============================] - 0s 2ms/step - loss: 991862390784.0000 - val_loss: 975443984384.0000\n",
      "Epoch 234/400\n",
      "46/46 [==============================] - 0s 2ms/step - loss: 991843385344.0000 - val_loss: 974657552384.0000\n",
      "Epoch 235/400\n",
      "46/46 [==============================] - 0s 2ms/step - loss: 990449893376.0000 - val_loss: 973316882432.0000\n",
      "Epoch 236/400\n",
      "46/46 [==============================] - 0s 2ms/step - loss: 990825349120.0000 - val_loss: 972106366976.0000\n",
      "Epoch 237/400\n",
      "46/46 [==============================] - 0s 2ms/step - loss: 989348429824.0000 - val_loss: 971056349184.0000\n",
      "Epoch 238/400\n",
      "46/46 [==============================] - 0s 2ms/step - loss: 988594700288.0000 - val_loss: 970504667136.0000\n",
      "Epoch 239/400\n",
      "46/46 [==============================] - 0s 2ms/step - loss: 987497365504.0000 - val_loss: 970215784448.0000\n",
      "Epoch 240/400\n",
      "46/46 [==============================] - 0s 2ms/step - loss: 986667483136.0000 - val_loss: 969457205248.0000\n",
      "Epoch 241/400\n",
      "46/46 [==============================] - 0s 2ms/step - loss: 986068680704.0000 - val_loss: 969776103424.0000\n",
      "Epoch 242/400\n",
      "46/46 [==============================] - 0s 2ms/step - loss: 985219792896.0000 - val_loss: 967527890944.0000\n",
      "Epoch 243/400\n",
      "46/46 [==============================] - 0s 2ms/step - loss: 985118605312.0000 - val_loss: 969116418048.0000\n",
      "Epoch 244/400\n",
      "46/46 [==============================] - 0s 2ms/step - loss: 983511400448.0000 - val_loss: 967353040896.0000\n",
      "Epoch 245/400\n",
      "46/46 [==============================] - 0s 2ms/step - loss: 983078141952.0000 - val_loss: 965717327872.0000\n",
      "Epoch 246/400\n",
      "46/46 [==============================] - 0s 2ms/step - loss: 983393566720.0000 - val_loss: 965158961152.0000\n",
      "Epoch 247/400\n",
      "46/46 [==============================] - 0s 2ms/step - loss: 982513614848.0000 - val_loss: 964641488896.0000\n",
      "Epoch 248/400\n",
      "46/46 [==============================] - 0s 2ms/step - loss: 980885962752.0000 - val_loss: 964189028352.0000\n",
      "Epoch 249/400\n",
      "46/46 [==============================] - 0s 2ms/step - loss: 980086292480.0000 - val_loss: 964232413184.0000\n",
      "Epoch 250/400\n",
      "46/46 [==============================] - 0s 2ms/step - loss: 979558662144.0000 - val_loss: 963439886336.0000\n",
      "Epoch 251/400\n",
      "46/46 [==============================] - 0s 2ms/step - loss: 979542343680.0000 - val_loss: 962419687424.0000\n",
      "Epoch 252/400\n",
      "46/46 [==============================] - 0s 2ms/step - loss: 977672011776.0000 - val_loss: 962338422784.0000\n",
      "Epoch 253/400\n",
      "46/46 [==============================] - 0s 2ms/step - loss: 976918478848.0000 - val_loss: 962353364992.0000\n",
      "Epoch 254/400\n",
      "46/46 [==============================] - 0s 2ms/step - loss: 976576970752.0000 - val_loss: 961274249216.0000\n",
      "Epoch 255/400\n",
      "46/46 [==============================] - 0s 2ms/step - loss: 975819112448.0000 - val_loss: 961284210688.0000\n",
      "Epoch 256/400\n",
      "46/46 [==============================] - 0s 2ms/step - loss: 974927953920.0000 - val_loss: 960486244352.0000\n",
      "Epoch 257/400\n",
      "46/46 [==============================] - 0s 2ms/step - loss: 975641772032.0000 - val_loss: 961147830272.0000\n",
      "Epoch 258/400\n",
      "46/46 [==============================] - 0s 2ms/step - loss: 973554122752.0000 - val_loss: 961031241728.0000\n",
      "Epoch 259/400\n",
      "46/46 [==============================] - 0s 2ms/step - loss: 972791611392.0000 - val_loss: 958692392960.0000\n",
      "Epoch 260/400\n",
      "46/46 [==============================] - 0s 2ms/step - loss: 972110823424.0000 - val_loss: 959163006976.0000\n",
      "Epoch 261/400\n",
      "46/46 [==============================] - 0s 2ms/step - loss: 972347277312.0000 - val_loss: 959896027136.0000\n",
      "Epoch 262/400\n",
      "46/46 [==============================] - 0s 3ms/step - loss: 970474127360.0000 - val_loss: 958040637440.0000\n",
      "Epoch 263/400\n",
      "46/46 [==============================] - 0s 2ms/step - loss: 970298032128.0000 - val_loss: 957406380032.0000\n",
      "Epoch 264/400\n"
     ]
    },
    {
     "name": "stdout",
     "output_type": "stream",
     "text": [
      "46/46 [==============================] - 0s 3ms/step - loss: 969463496704.0000 - val_loss: 957801889792.0000\n",
      "Epoch 265/400\n",
      "46/46 [==============================] - 0s 2ms/step - loss: 968764751872.0000 - val_loss: 957841473536.0000\n",
      "Epoch 266/400\n",
      "46/46 [==============================] - 0s 2ms/step - loss: 968378023936.0000 - val_loss: 956423143424.0000\n",
      "Epoch 267/400\n",
      "46/46 [==============================] - 0s 2ms/step - loss: 968042151936.0000 - val_loss: 956355575808.0000\n",
      "Epoch 268/400\n",
      "46/46 [==============================] - 0s 2ms/step - loss: 967030145024.0000 - val_loss: 955964456960.0000\n",
      "Epoch 269/400\n",
      "46/46 [==============================] - 0s 2ms/step - loss: 966383108096.0000 - val_loss: 955747926016.0000\n",
      "Epoch 270/400\n",
      "46/46 [==============================] - 0s 2ms/step - loss: 966617268224.0000 - val_loss: 955451637760.0000\n",
      "Epoch 271/400\n",
      "46/46 [==============================] - 0s 2ms/step - loss: 965143560192.0000 - val_loss: 954864566272.0000\n",
      "Epoch 272/400\n",
      "46/46 [==============================] - 0s 2ms/step - loss: 964260003840.0000 - val_loss: 954744176640.0000\n",
      "Epoch 273/400\n",
      "46/46 [==============================] - 0s 3ms/step - loss: 964326064128.0000 - val_loss: 952259772416.0000\n",
      "Epoch 274/400\n",
      "46/46 [==============================] - 0s 2ms/step - loss: 962991816704.0000 - val_loss: 954652884992.0000\n",
      "Epoch 275/400\n",
      "46/46 [==============================] - 0s 2ms/step - loss: 962198110208.0000 - val_loss: 953134022656.0000\n",
      "Epoch 276/400\n",
      "46/46 [==============================] - 0s 3ms/step - loss: 962028109824.0000 - val_loss: 953024184320.0000\n",
      "Epoch 277/400\n",
      "46/46 [==============================] - 0s 2ms/step - loss: 961081311232.0000 - val_loss: 951743479808.0000\n",
      "Epoch 278/400\n",
      "46/46 [==============================] - 0s 2ms/step - loss: 961013678080.0000 - val_loss: 951158833152.0000\n",
      "Epoch 279/400\n",
      "46/46 [==============================] - 0s 2ms/step - loss: 959674122240.0000 - val_loss: 951454793728.0000\n",
      "Epoch 280/400\n",
      "46/46 [==============================] - 0s 2ms/step - loss: 959468339200.0000 - val_loss: 952481021952.0000\n",
      "Epoch 281/400\n",
      "46/46 [==============================] - 0s 2ms/step - loss: 958487199744.0000 - val_loss: 950414344192.0000\n",
      "Epoch 282/400\n",
      "46/46 [==============================] - 0s 2ms/step - loss: 957873192960.0000 - val_loss: 949477310464.0000\n",
      "Epoch 283/400\n",
      "46/46 [==============================] - 0s 2ms/step - loss: 957788061696.0000 - val_loss: 950631661568.0000\n",
      "Epoch 284/400\n",
      "46/46 [==============================] - 0s 2ms/step - loss: 957395304448.0000 - val_loss: 950112026624.0000\n",
      "Epoch 285/400\n",
      "46/46 [==============================] - 0s 2ms/step - loss: 955733770240.0000 - val_loss: 949708062720.0000\n",
      "Epoch 286/400\n",
      "46/46 [==============================] - 0s 2ms/step - loss: 955459698688.0000 - val_loss: 948750319616.0000\n",
      "Epoch 287/400\n",
      "46/46 [==============================] - 0s 2ms/step - loss: 954800340992.0000 - val_loss: 948304347136.0000\n",
      "Epoch 288/400\n",
      "46/46 [==============================] - 0s 2ms/step - loss: 954253639680.0000 - val_loss: 950327312384.0000\n",
      "Epoch 289/400\n",
      "46/46 [==============================] - 0s 2ms/step - loss: 953324142592.0000 - val_loss: 947639091200.0000\n",
      "Epoch 290/400\n",
      "46/46 [==============================] - 0s 2ms/step - loss: 952628084736.0000 - val_loss: 948222164992.0000\n",
      "Epoch 291/400\n",
      "46/46 [==============================] - 0s 2ms/step - loss: 952102486016.0000 - val_loss: 947996917760.0000\n",
      "Epoch 292/400\n",
      "46/46 [==============================] - 0s 2ms/step - loss: 951313563648.0000 - val_loss: 947068141568.0000\n",
      "Epoch 293/400\n",
      "46/46 [==============================] - 0s 2ms/step - loss: 950725705728.0000 - val_loss: 947453100032.0000\n",
      "Epoch 294/400\n",
      "46/46 [==============================] - 0s 2ms/step - loss: 950482370560.0000 - val_loss: 947287556096.0000\n",
      "Epoch 295/400\n",
      "46/46 [==============================] - 0s 2ms/step - loss: 949546713088.0000 - val_loss: 947305775104.0000\n",
      "Epoch 296/400\n",
      "46/46 [==============================] - 0s 2ms/step - loss: 949126823936.0000 - val_loss: 946242125824.0000\n",
      "Epoch 297/400\n",
      "46/46 [==============================] - 0s 2ms/step - loss: 950246768640.0000 - val_loss: 944848306176.0000\n",
      "Epoch 298/400\n",
      "46/46 [==============================] - 0s 2ms/step - loss: 947606192128.0000 - val_loss: 945334583296.0000\n",
      "Epoch 299/400\n",
      "46/46 [==============================] - 0s 2ms/step - loss: 947935838208.0000 - val_loss: 945700012032.0000\n",
      "Epoch 300/400\n",
      "46/46 [==============================] - 0s 2ms/step - loss: 946360287232.0000 - val_loss: 945097080832.0000\n",
      "Epoch 301/400\n",
      "46/46 [==============================] - 0s 2ms/step - loss: 946058625024.0000 - val_loss: 944766189568.0000\n",
      "Epoch 302/400\n",
      "46/46 [==============================] - 0s 2ms/step - loss: 945196498944.0000 - val_loss: 943787016192.0000\n",
      "Epoch 303/400\n",
      "46/46 [==============================] - 0s 2ms/step - loss: 946038636544.0000 - val_loss: 942996062208.0000\n",
      "Epoch 304/400\n",
      "46/46 [==============================] - 0s 2ms/step - loss: 944884350976.0000 - val_loss: 943020638208.0000\n",
      "Epoch 305/400\n",
      "46/46 [==============================] - 0s 2ms/step - loss: 944040247296.0000 - val_loss: 943543746560.0000\n",
      "Epoch 306/400\n",
      "46/46 [==============================] - 0s 2ms/step - loss: 943424012288.0000 - val_loss: 942783266816.0000\n",
      "Epoch 307/400\n",
      "46/46 [==============================] - 0s 2ms/step - loss: 942850768896.0000 - val_loss: 942558412800.0000\n",
      "Epoch 308/400\n",
      "46/46 [==============================] - 0s 2ms/step - loss: 941782794240.0000 - val_loss: 942136688640.0000\n",
      "Epoch 309/400\n",
      "46/46 [==============================] - 0s 2ms/step - loss: 941012942848.0000 - val_loss: 942703902720.0000\n",
      "Epoch 310/400\n",
      "46/46 [==============================] - 0s 2ms/step - loss: 940640370688.0000 - val_loss: 942740668416.0000\n",
      "Epoch 311/400\n",
      "46/46 [==============================] - 0s 2ms/step - loss: 939816648704.0000 - val_loss: 941430472704.0000\n",
      "Epoch 312/400\n",
      "46/46 [==============================] - 0s 2ms/step - loss: 939301601280.0000 - val_loss: 941368606720.0000\n",
      "Epoch 313/400\n",
      "46/46 [==============================] - 0s 2ms/step - loss: 938819977216.0000 - val_loss: 940897075200.0000\n",
      "Epoch 314/400\n",
      "46/46 [==============================] - 0s 2ms/step - loss: 938996858880.0000 - val_loss: 941713326080.0000\n",
      "Epoch 315/400\n",
      "46/46 [==============================] - 0s 2ms/step - loss: 937503948800.0000 - val_loss: 939364843520.0000\n",
      "Epoch 316/400\n",
      "46/46 [==============================] - 0s 2ms/step - loss: 937606774784.0000 - val_loss: 939939856384.0000\n",
      "Epoch 317/400\n",
      "46/46 [==============================] - 0s 2ms/step - loss: 936924217344.0000 - val_loss: 940257509376.0000\n",
      "Epoch 318/400\n",
      "46/46 [==============================] - 0s 2ms/step - loss: 935850868736.0000 - val_loss: 938645979136.0000\n",
      "Epoch 319/400\n",
      "46/46 [==============================] - 0s 2ms/step - loss: 935397294080.0000 - val_loss: 938714398720.0000\n",
      "Epoch 320/400\n",
      "46/46 [==============================] - 0s 2ms/step - loss: 934694354944.0000 - val_loss: 938631299072.0000\n",
      "Epoch 321/400\n",
      "46/46 [==============================] - 0s 2ms/step - loss: 934423691264.0000 - val_loss: 938785832960.0000\n",
      "Epoch 322/400\n",
      "46/46 [==============================] - 0s 2ms/step - loss: 933725470720.0000 - val_loss: 938752475136.0000\n",
      "Epoch 323/400\n",
      "46/46 [==============================] - 0s 2ms/step - loss: 933573033984.0000 - val_loss: 936601911296.0000\n",
      "Epoch 324/400\n",
      "46/46 [==============================] - 0s 2ms/step - loss: 932854824960.0000 - val_loss: 938261413888.0000\n",
      "Epoch 325/400\n",
      "46/46 [==============================] - 0s 2ms/step - loss: 931867525120.0000 - val_loss: 937317892096.0000\n",
      "Epoch 326/400\n",
      "46/46 [==============================] - 0s 2ms/step - loss: 931545153536.0000 - val_loss: 938421321728.0000\n",
      "Epoch 327/400\n",
      "46/46 [==============================] - 0s 2ms/step - loss: 931215572992.0000 - val_loss: 937038905344.0000\n",
      "Epoch 328/400\n",
      "46/46 [==============================] - 0s 3ms/step - loss: 930524299264.0000 - val_loss: 937346269184.0000\n",
      "Epoch 329/400\n",
      "46/46 [==============================] - 0s 2ms/step - loss: 930295119872.0000 - val_loss: 935906836480.0000\n",
      "Epoch 330/400\n"
     ]
    },
    {
     "name": "stdout",
     "output_type": "stream",
     "text": [
      "46/46 [==============================] - 0s 2ms/step - loss: 929430503424.0000 - val_loss: 935427571712.0000\n",
      "Epoch 331/400\n",
      "46/46 [==============================] - 0s 2ms/step - loss: 928627818496.0000 - val_loss: 936788099072.0000\n",
      "Epoch 332/400\n",
      "46/46 [==============================] - 0s 2ms/step - loss: 928590659584.0000 - val_loss: 936909930496.0000\n",
      "Epoch 333/400\n",
      "46/46 [==============================] - 0s 2ms/step - loss: 928294895616.0000 - val_loss: 936550531072.0000\n",
      "Epoch 334/400\n",
      "46/46 [==============================] - 0s 2ms/step - loss: 927378112512.0000 - val_loss: 934467141632.0000\n",
      "Epoch 335/400\n",
      "46/46 [==============================] - 0s 2ms/step - loss: 926491607040.0000 - val_loss: 934598868992.0000\n",
      "Epoch 336/400\n",
      "46/46 [==============================] - 0s 2ms/step - loss: 925711728640.0000 - val_loss: 934340984832.0000\n",
      "Epoch 337/400\n",
      "46/46 [==============================] - 0s 2ms/step - loss: 925659955200.0000 - val_loss: 935010828288.0000\n",
      "Epoch 338/400\n",
      "46/46 [==============================] - 0s 2ms/step - loss: 924547940352.0000 - val_loss: 933533646848.0000\n",
      "Epoch 339/400\n",
      "46/46 [==============================] - 0s 2ms/step - loss: 923902214144.0000 - val_loss: 933462933504.0000\n",
      "Epoch 340/400\n",
      "46/46 [==============================] - 0s 2ms/step - loss: 925164568576.0000 - val_loss: 934906298368.0000\n",
      "Epoch 341/400\n",
      "46/46 [==============================] - 0s 2ms/step - loss: 923629715456.0000 - val_loss: 933250138112.0000\n",
      "Epoch 342/400\n",
      "46/46 [==============================] - 0s 2ms/step - loss: 922982875136.0000 - val_loss: 932284858368.0000\n",
      "Epoch 343/400\n",
      "46/46 [==============================] - 0s 2ms/step - loss: 922063667200.0000 - val_loss: 932645306368.0000\n",
      "Epoch 344/400\n",
      "46/46 [==============================] - 0s 2ms/step - loss: 921817055232.0000 - val_loss: 932655792128.0000\n",
      "Epoch 345/400\n",
      "46/46 [==============================] - 0s 2ms/step - loss: 921687425024.0000 - val_loss: 932159094784.0000\n",
      "Epoch 346/400\n",
      "46/46 [==============================] - 0s 2ms/step - loss: 920373035008.0000 - val_loss: 931680550912.0000\n",
      "Epoch 347/400\n",
      "46/46 [==============================] - 0s 2ms/step - loss: 920161222656.0000 - val_loss: 932924162048.0000\n",
      "Epoch 348/400\n",
      "46/46 [==============================] - 0s 2ms/step - loss: 919242932224.0000 - val_loss: 930943664128.0000\n",
      "Epoch 349/400\n",
      "46/46 [==============================] - 0s 2ms/step - loss: 918921412608.0000 - val_loss: 931200368640.0000\n",
      "Epoch 350/400\n",
      "46/46 [==============================] - 0s 2ms/step - loss: 918956146688.0000 - val_loss: 930308423680.0000\n",
      "Epoch 351/400\n",
      "46/46 [==============================] - 0s 2ms/step - loss: 918157131776.0000 - val_loss: 932993957888.0000\n",
      "Epoch 352/400\n",
      "46/46 [==============================] - 0s 2ms/step - loss: 917922250752.0000 - val_loss: 930508767232.0000\n",
      "Epoch 353/400\n",
      "46/46 [==============================] - 0s 2ms/step - loss: 917356150784.0000 - val_loss: 929688846336.0000\n",
      "Epoch 354/400\n",
      "46/46 [==============================] - 0s 2ms/step - loss: 916211105792.0000 - val_loss: 930378219520.0000\n",
      "Epoch 355/400\n",
      "46/46 [==============================] - 0s 2ms/step - loss: 917037383680.0000 - val_loss: 930999107584.0000\n",
      "Epoch 356/400\n",
      "46/46 [==============================] - 0s 2ms/step - loss: 915065077760.0000 - val_loss: 931234185216.0000\n",
      "Epoch 357/400\n",
      "46/46 [==============================] - 0s 2ms/step - loss: 915806814208.0000 - val_loss: 930018361344.0000\n",
      "Epoch 358/400\n",
      "46/46 [==============================] - 0s 2ms/step - loss: 914513395712.0000 - val_loss: 932341678080.0000\n",
      "Epoch 359/400\n",
      "46/46 [==============================] - 0s 2ms/step - loss: 913384079360.0000 - val_loss: 929092141056.0000\n",
      "Epoch 360/400\n",
      "46/46 [==============================] - 0s 2ms/step - loss: 913157849088.0000 - val_loss: 930160443392.0000\n",
      "Epoch 361/400\n",
      "46/46 [==============================] - 0s 2ms/step - loss: 912198598656.0000 - val_loss: 928201965568.0000\n",
      "Epoch 362/400\n",
      "46/46 [==============================] - 0s 2ms/step - loss: 912062676992.0000 - val_loss: 929814544384.0000\n",
      "Epoch 363/400\n",
      "46/46 [==============================] - 0s 3ms/step - loss: 910844690432.0000 - val_loss: 927979995136.0000\n",
      "Epoch 364/400\n",
      "46/46 [==============================] - 0s 2ms/step - loss: 910975565824.0000 - val_loss: 927082414080.0000\n",
      "Epoch 365/400\n",
      "46/46 [==============================] - 0s 2ms/step - loss: 910127792128.0000 - val_loss: 928872792064.0000\n",
      "Epoch 366/400\n",
      "46/46 [==============================] - 0s 2ms/step - loss: 910321319936.0000 - val_loss: 927361138688.0000\n",
      "Epoch 367/400\n",
      "46/46 [==============================] - 0s 2ms/step - loss: 909447200768.0000 - val_loss: 927658409984.0000\n",
      "Epoch 368/400\n",
      "46/46 [==============================] - 0s 2ms/step - loss: 909619757056.0000 - val_loss: 927523012608.0000\n",
      "Epoch 369/400\n",
      "46/46 [==============================] - 0s 2ms/step - loss: 909184532480.0000 - val_loss: 930948055040.0000\n",
      "Epoch 370/400\n",
      "46/46 [==============================] - 0s 3ms/step - loss: 908466782208.0000 - val_loss: 928478396416.0000\n",
      "Epoch 371/400\n",
      "46/46 [==============================] - 0s 2ms/step - loss: 907516837888.0000 - val_loss: 927446990848.0000\n",
      "Epoch 372/400\n",
      "46/46 [==============================] - 0s 2ms/step - loss: 907131027456.0000 - val_loss: 928536461312.0000\n",
      "Epoch 373/400\n",
      "46/46 [==============================] - 0s 2ms/step - loss: 906797121536.0000 - val_loss: 926391402496.0000\n",
      "Epoch 374/400\n",
      "46/46 [==============================] - 0s 2ms/step - loss: 906025959424.0000 - val_loss: 927440044032.0000\n",
      "Epoch 375/400\n",
      "46/46 [==============================] - 0s 2ms/step - loss: 905155903488.0000 - val_loss: 927035097088.0000\n",
      "Epoch 376/400\n",
      "46/46 [==============================] - 0s 2ms/step - loss: 904484290560.0000 - val_loss: 927221940224.0000\n",
      "Epoch 377/400\n",
      "46/46 [==============================] - 0s 2ms/step - loss: 904639676416.0000 - val_loss: 926564089856.0000\n",
      "Epoch 378/400\n",
      "46/46 [==============================] - 0s 2ms/step - loss: 903519862784.0000 - val_loss: 928061259776.0000\n",
      "Epoch 379/400\n",
      "46/46 [==============================] - 0s 2ms/step - loss: 903330594816.0000 - val_loss: 926033313792.0000\n",
      "Epoch 380/400\n",
      "46/46 [==============================] - 0s 2ms/step - loss: 903095386112.0000 - val_loss: 927069306880.0000\n",
      "Epoch 381/400\n",
      "46/46 [==============================] - 0s 2ms/step - loss: 902162677760.0000 - val_loss: 927654412288.0000\n",
      "Epoch 382/400\n",
      "46/46 [==============================] - 0s 2ms/step - loss: 901535367168.0000 - val_loss: 925306716160.0000\n",
      "Epoch 383/400\n",
      "46/46 [==============================] - 0s 2ms/step - loss: 901357174784.0000 - val_loss: 926087184384.0000\n",
      "Epoch 384/400\n",
      "46/46 [==============================] - 0s 2ms/step - loss: 900481810432.0000 - val_loss: 926082072576.0000\n",
      "Epoch 385/400\n",
      "46/46 [==============================] - 0s 2ms/step - loss: 900384686080.0000 - val_loss: 926186078208.0000\n",
      "Epoch 386/400\n",
      "46/46 [==============================] - 0s 2ms/step - loss: 900516347904.0000 - val_loss: 928032423936.0000\n",
      "Epoch 387/400\n",
      "46/46 [==============================] - 0s 2ms/step - loss: 899439853568.0000 - val_loss: 925151985664.0000\n",
      "Epoch 388/400\n",
      "46/46 [==============================] - 0s 2ms/step - loss: 898608660480.0000 - val_loss: 923837923328.0000\n",
      "Epoch 389/400\n",
      "46/46 [==============================] - 0s 2ms/step - loss: 898667773952.0000 - val_loss: 924273672192.0000\n",
      "Epoch 390/400\n",
      "46/46 [==============================] - 0s 2ms/step - loss: 899001221120.0000 - val_loss: 924739502080.0000\n",
      "Epoch 391/400\n",
      "46/46 [==============================] - 0s 2ms/step - loss: 897230569472.0000 - val_loss: 926343823360.0000\n",
      "Epoch 392/400\n",
      "46/46 [==============================] - 0s 2ms/step - loss: 896562167808.0000 - val_loss: 926690508800.0000\n",
      "Epoch 393/400\n",
      "46/46 [==============================] - 0s 2ms/step - loss: 896700973056.0000 - val_loss: 924200992768.0000\n",
      "Epoch 394/400\n",
      "46/46 [==============================] - 0s 3ms/step - loss: 896156303360.0000 - val_loss: 926165696512.0000\n",
      "Epoch 395/400\n",
      "46/46 [==============================] - 0s 2ms/step - loss: 897344864256.0000 - val_loss: 923849326592.0000\n",
      "Epoch 396/400\n",
      "46/46 [==============================] - 0s 2ms/step - loss: 894989631488.0000 - val_loss: 924727967744.0000\n"
     ]
    },
    {
     "name": "stdout",
     "output_type": "stream",
     "text": [
      "Epoch 397/400\n",
      "46/46 [==============================] - 0s 2ms/step - loss: 895136169984.0000 - val_loss: 925966925824.0000\n",
      "Epoch 398/400\n",
      "46/46 [==============================] - 0s 2ms/step - loss: 893622484992.0000 - val_loss: 923962638336.0000\n",
      "Epoch 399/400\n",
      "46/46 [==============================] - 0s 2ms/step - loss: 893631922176.0000 - val_loss: 924718989312.0000\n",
      "Epoch 400/400\n",
      "46/46 [==============================] - 0s 2ms/step - loss: 893325737984.0000 - val_loss: 924853075968.0000\n"
     ]
    },
    {
     "data": {
      "text/plain": [
       "<keras.callbacks.History at 0x2d2b1e138b0>"
      ]
     },
     "execution_count": 150,
     "metadata": {},
     "output_type": "execute_result"
    }
   ],
   "source": [
    "model.fit(x=X_train,y=y_train.values,\n",
    "          validation_data=(X_test,y_test.values),\n",
    "          batch_size=128,epochs=400)"
   ]
  },
  {
   "cell_type": "code",
   "execution_count": 151,
   "metadata": {},
   "outputs": [
    {
     "data": {
      "text/html": [
       "<div>\n",
       "<style scoped>\n",
       "    .dataframe tbody tr th:only-of-type {\n",
       "        vertical-align: middle;\n",
       "    }\n",
       "\n",
       "    .dataframe tbody tr th {\n",
       "        vertical-align: top;\n",
       "    }\n",
       "\n",
       "    .dataframe thead th {\n",
       "        text-align: right;\n",
       "    }\n",
       "</style>\n",
       "<table border=\"1\" class=\"dataframe\">\n",
       "  <thead>\n",
       "    <tr style=\"text-align: right;\">\n",
       "      <th></th>\n",
       "      <th>loss</th>\n",
       "      <th>val_loss</th>\n",
       "    </tr>\n",
       "  </thead>\n",
       "  <tbody>\n",
       "    <tr>\n",
       "      <th>0</th>\n",
       "      <td>3.906806e+12</td>\n",
       "      <td>3.879593e+12</td>\n",
       "    </tr>\n",
       "    <tr>\n",
       "      <th>1</th>\n",
       "      <td>3.906734e+12</td>\n",
       "      <td>3.879370e+12</td>\n",
       "    </tr>\n",
       "    <tr>\n",
       "      <th>2</th>\n",
       "      <td>3.905827e+12</td>\n",
       "      <td>3.877028e+12</td>\n",
       "    </tr>\n",
       "    <tr>\n",
       "      <th>3</th>\n",
       "      <td>3.899529e+12</td>\n",
       "      <td>3.863922e+12</td>\n",
       "    </tr>\n",
       "    <tr>\n",
       "      <th>4</th>\n",
       "      <td>3.872638e+12</td>\n",
       "      <td>3.816802e+12</td>\n",
       "    </tr>\n",
       "    <tr>\n",
       "      <th>...</th>\n",
       "      <td>...</td>\n",
       "      <td>...</td>\n",
       "    </tr>\n",
       "    <tr>\n",
       "      <th>395</th>\n",
       "      <td>8.949896e+11</td>\n",
       "      <td>9.247280e+11</td>\n",
       "    </tr>\n",
       "    <tr>\n",
       "      <th>396</th>\n",
       "      <td>8.951362e+11</td>\n",
       "      <td>9.259669e+11</td>\n",
       "    </tr>\n",
       "    <tr>\n",
       "      <th>397</th>\n",
       "      <td>8.936225e+11</td>\n",
       "      <td>9.239626e+11</td>\n",
       "    </tr>\n",
       "    <tr>\n",
       "      <th>398</th>\n",
       "      <td>8.936319e+11</td>\n",
       "      <td>9.247190e+11</td>\n",
       "    </tr>\n",
       "    <tr>\n",
       "      <th>399</th>\n",
       "      <td>8.933257e+11</td>\n",
       "      <td>9.248531e+11</td>\n",
       "    </tr>\n",
       "  </tbody>\n",
       "</table>\n",
       "<p>400 rows × 2 columns</p>\n",
       "</div>"
      ],
      "text/plain": [
       "             loss      val_loss\n",
       "0    3.906806e+12  3.879593e+12\n",
       "1    3.906734e+12  3.879370e+12\n",
       "2    3.905827e+12  3.877028e+12\n",
       "3    3.899529e+12  3.863922e+12\n",
       "4    3.872638e+12  3.816802e+12\n",
       "..            ...           ...\n",
       "395  8.949896e+11  9.247280e+11\n",
       "396  8.951362e+11  9.259669e+11\n",
       "397  8.936225e+11  9.239626e+11\n",
       "398  8.936319e+11  9.247190e+11\n",
       "399  8.933257e+11  9.248531e+11\n",
       "\n",
       "[400 rows x 2 columns]"
      ]
     },
     "execution_count": 151,
     "metadata": {},
     "output_type": "execute_result"
    }
   ],
   "source": [
    "losses = pd.DataFrame(model.history.history)\n",
    "losses"
   ]
  },
  {
   "cell_type": "code",
   "execution_count": 152,
   "metadata": {},
   "outputs": [
    {
     "data": {
      "text/plain": [
       "<AxesSubplot:>"
      ]
     },
     "execution_count": 152,
     "metadata": {},
     "output_type": "execute_result"
    },
    {
     "data": {
      "image/png": "[encoded data removed]",
      "text/plain": [
       "<Figure size 432x288 with 1 Axes>"
      ]
     },
     "metadata": {
      "needs_background": "light"
     },
     "output_type": "display_data"
    }
   ],
   "source": [
    "losses.plot()"
   ]
  },
  {
   "cell_type": "code",
   "execution_count": 153,
   "metadata": {},
   "outputs": [],
   "source": [
    "from sklearn.metrics import mean_squared_error,mean_absolute_error,explained_variance_score"
   ]
  },
  {
   "cell_type": "code",
   "execution_count": 154,
   "metadata": {},
   "outputs": [
    {
     "name": "stdout",
     "output_type": "stream",
     "text": [
      "46/46 [==============================] - 0s 819us/step\n"
     ]
    }
   ],
   "source": [
    "predictions = model.predict(X_test)"
   ]
  },
  {
   "cell_type": "code",
   "execution_count": 155,
   "metadata": {},
   "outputs": [
    {
     "data": {
      "text/plain": [
       "961692.8193734223"
      ]
     },
     "execution_count": 155,
     "metadata": {},
     "output_type": "execute_result"
    }
   ],
   "source": [
    "np.sqrt(mean_squared_error(y_test,predictions))"
   ]
  },
  {
   "cell_type": "code",
   "execution_count": 156,
   "metadata": {},
   "outputs": [
    {
     "data": {
      "text/plain": [
       "[<matplotlib.lines.Line2D at 0x2d2b4144d30>]"
      ]
     },
     "execution_count": 156,
     "metadata": {},
     "output_type": "execute_result"
    },
    {
     "data": {
      "image/png": "[encoded data removed]",
      "text/plain": [
       "<Figure size 432x288 with 1 Axes>"
      ]
     },
     "metadata": {
      "needs_background": "light"
     },
     "output_type": "display_data"
    }
   ],
   "source": [
    "# Our predictions\n",
    "plt.scatter(y_test,predictions)\n",
    "\n",
    "# Perfect predictions\n",
    "plt.plot(y_test,y_test,'r')"
   ]
  },
  {
   "cell_type": "code",
   "execution_count": 158,
   "metadata": {},
   "outputs": [
    {
     "name": "stdout",
     "output_type": "stream",
     "text": [
      "{'n_estimators': [200, 400, 600, 800, 1000, 1200, 1400, 1600, 1800, 2000], 'max_features': ['auto', 'sqrt'], 'max_depth': [10, 20, 30, 40, 50, 60, 70, 80, 90, 100, 110, None], 'min_samples_split': [2, 5, 10], 'min_samples_leaf': [1, 2, 4], 'bootstrap': [True, False]}\n"
     ]
    },
    {
     "data": {
      "text/plain": [
       "{'bootstrap': [True, False],\n",
       " 'max_depth': [10, 20, 30, 40, 50, 60, 70, 80, 90, 100, None],\n",
       " 'max_features': ['auto', 'sqrt'],\n",
       " 'min_samples_leaf': [1, 2, 4],\n",
       " 'min_samples_split': [2, 5, 10],\n",
       " 'n_estimators': [200, 400, 600, 800, 1000, 1200, 1400, 1600, 1800, 2000]}"
      ]
     },
     "execution_count": 158,
     "metadata": {},
     "output_type": "execute_result"
    }
   ],
   "source": [
    "from sklearn.model_selection import RandomizedSearchCV\n",
    "n_estimators = [int(x) for x in np.linspace(start = 200, stop = 2000, num = 10)]\n",
    "max_features = ['auto', 'sqrt']\n",
    "max_depth = [int(x) for x in np.linspace(10, 110, num = 11)]\n",
    "max_depth.append(None)\n",
    "min_samples_split = [2, 5, 10]\n",
    "min_samples_leaf = [1, 2, 4]\n",
    "bootstrap = [True, False]\n",
    "random_grid = {'n_estimators': n_estimators,\n",
    "               'max_features': max_features,\n",
    "               'max_depth': max_depth,\n",
    "               'min_samples_split': min_samples_split,\n",
    "               'min_samples_leaf': min_samples_leaf,\n",
    "               'bootstrap': bootstrap}\n",
    "print(random_grid)\n",
    "{'bootstrap': [True, False],\n",
    " 'max_depth': [10, 20, 30, 40, 50, 60, 70, 80, 90, 100, None],\n",
    " 'max_features': ['auto', 'sqrt'],\n",
    " 'min_samples_leaf': [1, 2, 4],\n",
    " 'min_samples_split': [2, 5, 10],\n",
    " 'n_estimators': [200, 400, 600, 800, 1000, 1200, 1400, 1600, 1800, 2000]}"
   ]
  },
  {
   "cell_type": "code",
   "execution_count": 165,
   "metadata": {},
   "outputs": [
    {
     "name": "stdout",
     "output_type": "stream",
     "text": [
      "Fitting 3 folds for each of 100 candidates, totalling 300 fits\n"
     ]
    },
    {
     "name": "stderr",
     "output_type": "stream",
     "text": [
      "[Parallel(n_jobs=-1)]: Using backend LokyBackend with 8 concurrent workers.\n",
      "[Parallel(n_jobs=-1)]: Done  25 tasks      | elapsed:   54.2s\n",
      "[Parallel(n_jobs=-1)]: Done 146 tasks      | elapsed:  4.5min\n",
      "[Parallel(n_jobs=-1)]: Done 300 out of 300 | elapsed: 11.3min finished\n"
     ]
    },
    {
     "data": {
      "text/plain": [
       "RandomizedSearchCV(cv=3, estimator=RandomForestRegressor(), n_iter=100,\n",
       "                   n_jobs=-1,\n",
       "                   param_distributions={'bootstrap': [True, False],\n",
       "                                        'max_depth': [10, 20, 30, 40, 50, 60,\n",
       "                                                      70, 80, 90, 100, 110,\n",
       "                                                      None],\n",
       "                                        'max_features': ['auto', 'sqrt'],\n",
       "                                        'min_samples_leaf': [1, 2, 4],\n",
       "                                        'min_samples_split': [2, 5, 10],\n",
       "                                        'n_estimators': [200, 400, 600, 800,\n",
       "                                                         1000, 1200, 1400, 1600,\n",
       "                                                         1800, 2000]},\n",
       "                   random_state=42, verbose=2)"
      ]
     },
     "execution_count": 165,
     "metadata": {},
     "output_type": "execute_result"
    }
   ],
   "source": [
    "rfc = RandomForestRegressor()\n",
    "rfc_random = RandomizedSearchCV(estimator = rfc, param_distributions = random_grid, n_iter = 100, cv = 3, verbose=2, random_state=42, n_jobs = -1)\n",
    "rfc_random.fit(X_train, y_train)"
   ]
  },
  {
   "cell_type": "code",
   "execution_count": 166,
   "metadata": {},
   "outputs": [
    {
     "data": {
      "text/plain": [
       "{'n_estimators': 800,\n",
       " 'min_samples_split': 10,\n",
       " 'min_samples_leaf': 2,\n",
       " 'max_features': 'sqrt',\n",
       " 'max_depth': 20,\n",
       " 'bootstrap': False}"
      ]
     },
     "execution_count": 166,
     "metadata": {},
     "output_type": "execute_result"
    }
   ],
   "source": [
    "rfc_random.best_params_"
   ]
  },
  {
   "cell_type": "code",
   "execution_count": 167,
   "metadata": {},
   "outputs": [],
   "source": [
    "bestrfc = RandomForestRegressor(n_estimators=800,\n",
    " min_samples_split=10,\n",
    " min_samples_leaf=2,\n",
    " max_features='sqrt',\n",
    " max_depth=20,\n",
    " bootstrap=False)"
   ]
  },
  {
   "cell_type": "code",
   "execution_count": 168,
   "metadata": {},
   "outputs": [
    {
     "data": {
      "text/plain": [
       "RandomForestRegressor(bootstrap=False, max_depth=20, max_features='sqrt',\n",
       "                      min_samples_leaf=2, min_samples_split=10,\n",
       "                      n_estimators=800)"
      ]
     },
     "execution_count": 168,
     "metadata": {},
     "output_type": "execute_result"
    }
   ],
   "source": [
    "bestrfc.fit(X_train, y_train)"
   ]
  },
  {
   "cell_type": "code",
   "execution_count": 169,
   "metadata": {},
   "outputs": [],
   "source": [
    "bestrfcpredictions= bestrfc.predict(X_test)"
   ]
  },
  {
   "cell_type": "code",
   "execution_count": 170,
   "metadata": {},
   "outputs": [
    {
     "data": {
      "text/plain": [
       "[<matplotlib.lines.Line2D at 0x2d2b53dd280>]"
      ]
     },
     "execution_count": 170,
     "metadata": {},
     "output_type": "execute_result"
    },
    {
     "data": {
      "image/png": "[encoded data removed]",
      "text/plain": [
       "<Figure size 432x288 with 1 Axes>"
      ]
     },
     "metadata": {
      "needs_background": "light"
     },
     "output_type": "display_data"
    }
   ],
   "source": [
    "plt.scatter(y_test,bestrfcpredictions)\n",
    "plt.plot(y_test,y_test,'r')"
   ]
  },
  {
   "cell_type": "code",
   "execution_count": 171,
   "metadata": {},
   "outputs": [
    {
     "name": "stdout",
     "output_type": "stream",
     "text": [
      "MAE: 414146.68275232415\n",
      "MSE: 972149784595.0421\n",
      "RMSE: 985976.5639177446\n"
     ]
    }
   ],
   "source": [
    "from sklearn import metrics\n",
    "print('MAE:', metrics.mean_absolute_error(y_test, bestrfcpredictions))\n",
    "print('MSE:', metrics.mean_squared_error(y_test, bestrfcpredictions))\n",
    "print('RMSE:', np.sqrt(metrics.mean_squared_error(y_test, bestrfcpredictions)))"
   ]
  },
  {
   "cell_type": "code",
   "execution_count": 184,
   "metadata": {},
   "outputs": [
    {
     "name": "stdout",
     "output_type": "stream",
     "text": [
      "Fitting 3 folds for each of 100 candidates, totalling 300 fits\n"
     ]
    },
    {
     "name": "stderr",
     "output_type": "stream",
     "text": [
      "[Parallel(n_jobs=-1)]: Using backend LokyBackend with 8 concurrent workers.\n",
      "[Parallel(n_jobs=-1)]: Done  25 tasks      | elapsed:   13.3s\n",
      "[Parallel(n_jobs=-1)]: Done 146 tasks      | elapsed:   42.9s\n",
      "[Parallel(n_jobs=-1)]: Done 300 out of 300 | elapsed:  1.5min finished\n"
     ]
    },
    {
     "data": {
      "text/plain": [
       "RandomizedSearchCV(cv=3,\n",
       "                   estimator=XGBRegressor(base_score=None, booster=None,\n",
       "                                          callbacks=None,\n",
       "                                          colsample_bylevel=None,\n",
       "                                          colsample_bynode=None,\n",
       "                                          colsample_bytree=None,\n",
       "                                          early_stopping_rounds=None,\n",
       "                                          enable_categorical=False,\n",
       "                                          eval_metric=None, gamma=None,\n",
       "                                          gpu_id=None, grow_policy=None,\n",
       "                                          importance_type=None,\n",
       "                                          interaction_constraints=None,\n",
       "                                          learning_rate=None, max_bin=None,\n",
       "                                          m...\n",
       "                                                  2.4000000000000004, 2.5, 2.6,\n",
       "                                                  2.7, 2.8000000000000003,\n",
       "                                                  2.9000000000000004, ...],\n",
       "                                        'learning_rate': [0.001, 0.01, 0.05,\n",
       "                                                          0.08, 0.1, 1],\n",
       "                                        'max_depth': [1, 12, 23, 34, 45, 56, 67,\n",
       "                                                      78, 89, 100],\n",
       "                                        'min_child_weight': [0.5, 1.0, 1.5, 2.0,\n",
       "                                                             2.5, 3.0, 3.5, 4.0,\n",
       "                                                             4.5, 5.0, 5.5, 6.0,\n",
       "                                                             6.5, 7.0, 7.5, 8.0,\n",
       "                                                             8.5, 9.0, 9.5,\n",
       "                                                             10.0, 10.5, 11.0,\n",
       "                                                             11.5, 12.0, 12.5,\n",
       "                                                             13.0, 13.5, 14.0,\n",
       "                                                             14.5, 15.0, ...]},\n",
       "                   scoring='neg_mean_squared_error', verbose=2)"
      ]
     },
     "execution_count": 184,
     "metadata": {},
     "output_type": "execute_result"
    }
   ],
   "source": [
    "colsample_bytree = [float(x) for x in np.linspace(start = 0.1, stop = 1, num = 10)]\n",
    "gamma = [float(x) for x in np.linspace(start = 0, stop = 5, num = 51)]\n",
    "learning_rate = [0.001,0.01,0.05,0.08,0.1,1]\n",
    "min_child_weight = [float(x) for x in np.linspace(start = 0.5, stop = 20, num = 40)]\n",
    "max_depth = [int(x) for x in np.linspace(start = 1, stop = 100, num = 10)]\n",
    "param_distributions = dict(\n",
    "    colsample_bytree = colsample_bytree,\n",
    "    gamma = gamma,\n",
    "    learning_rate = learning_rate,\n",
    "    min_child_weight = min_child_weight,\n",
    "    max_depth = max_depth\n",
    ")\n",
    "xgbr = XGBRegressor()\n",
    "\n",
    "xgbr_random = RandomizedSearchCV(\n",
    "            estimator=xgbr,\n",
    "            param_distributions=param_distributions,\n",
    "            cv=3, scoring='neg_mean_squared_error',n_iter = 100, verbose=2, n_jobs=-1)\n",
    "xgbr_random.fit(X_train, y_train)"
   ]
  },
  {
   "cell_type": "code",
   "execution_count": 185,
   "metadata": {},
   "outputs": [
    {
     "data": {
      "text/plain": [
       "{'min_child_weight': 17.5,\n",
       " 'max_depth': 89,\n",
       " 'learning_rate': 1,\n",
       " 'gamma': 2.6,\n",
       " 'colsample_bytree': 0.5}"
      ]
     },
     "execution_count": 185,
     "metadata": {},
     "output_type": "execute_result"
    }
   ],
   "source": [
    "xgbr_random.best_params_"
   ]
  },
  {
   "cell_type": "code",
   "execution_count": 186,
   "metadata": {},
   "outputs": [],
   "source": [
    "bestxgbr = XGBRegressor(min_child_weight=17.5, max_depth=89, learning_rate=1,gamma=2.6,colsample_bytree=0.5)"
   ]
  },
  {
   "cell_type": "code",
   "execution_count": 187,
   "metadata": {},
   "outputs": [],
   "source": [
    "bestxgbr.fit(X_train, y_train)\n",
    "bestxgbrpredictions= bestxgbr.predict(X_test)"
   ]
  },
  {
   "cell_type": "code",
   "execution_count": 188,
   "metadata": {},
   "outputs": [
    {
     "data": {
      "text/plain": [
       "[<matplotlib.lines.Line2D at 0x2d2b83c1c40>]"
      ]
     },
     "execution_count": 188,
     "metadata": {},
     "output_type": "execute_result"
    },
    {
     "data": {
      "image/png": "[encoded data removed]",
      "text/plain": [
       "<Figure size 432x288 with 1 Axes>"
      ]
     },
     "metadata": {
      "needs_background": "light"
     },
     "output_type": "display_data"
    }
   ],
   "source": [
    "plt.scatter(y_test,bestxgbrpredictions)\n",
    "plt.plot(y_test,y_test,'r')"
   ]
  },
  {
   "cell_type": "code",
   "execution_count": 189,
   "metadata": {},
   "outputs": [
    {
     "name": "stdout",
     "output_type": "stream",
     "text": [
      "MAE: 423304.5141744881\n",
      "MSE: 985132645311.9369\n",
      "RMSE: 992538.4855570775\n"
     ]
    }
   ],
   "source": [
    "print('MAE:', metrics.mean_absolute_error(y_test, bestxgbrpredictions))\n",
    "print('MSE:', metrics.mean_squared_error(y_test, bestxgbrpredictions))\n",
    "print('RMSE:', np.sqrt(metrics.mean_squared_error(y_test, bestxgbrpredictions)))"
   ]
  },
  {
   "cell_type": "code",
   "execution_count": null,
   "metadata": {},
   "outputs": [],
   "source": []
  }
 ],
 "metadata": {
  "kernelspec": {
   "display_name": "Python 3",
   "language": "python",
   "name": "python3"
  },
  "language_info": {
   "codemirror_mode": {
    "name": "ipython",
    "version": 3
   },
   "file_extension": ".py",
   "mimetype": "text/x-python",
   "name": "python",
   "nbconvert_exporter": "python",
   "pygments_lexer": "ipython3",
   "version": "3.8.5"
  }
 },
 "nbformat": 4,
 "nbformat_minor": 4
}
